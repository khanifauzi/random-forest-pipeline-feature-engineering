{
  "nbformat": 4,
  "nbformat_minor": 0,
  "metadata": {
    "colab": {
      "name": "h8dsft_Milestone2_KHANIF_FAUZI_PAMBUDI.ipynb",
      "provenance": [],
      "collapsed_sections": []
    },
    "kernelspec": {
      "name": "python3",
      "display_name": "Python 3"
    },
    "language_info": {
      "name": "python"
    }
  },
  "cells": [
    {
      "cell_type": "markdown",
      "metadata": {
        "id": "85X4IZzVVPvi"
      },
      "source": [
        "# **KHANIF FAUZI PAMBUDI (MILESTONE 2 PHASE 1)**"
      ]
    },
    {
      "cell_type": "markdown",
      "metadata": {
        "id": "kLgQznKvVUnv"
      },
      "source": [
        "Milestones   ini   dibuat   guna   mengevaluasi pembelajaran pada Hacktiv8 Data Science Full Time Program khususnya pada Phase 1. Link dataset dapat diakses melalui https://www.kaggle.com/benroshan/factors-affecting-campus-placement"
      ]
    },
    {
      "cell_type": "markdown",
      "metadata": {
        "id": "QFVhiJIsVCfJ"
      },
      "source": [
        "# **IMPORT LIBRARY**"
      ]
    },
    {
      "cell_type": "code",
      "metadata": {
        "colab": {
          "base_uri": "https://localhost:8080/"
        },
        "id": "Uumk3DOkVJkV",
        "outputId": "a8dbc4a5-edff-4f41-8ae0-b7ce7b050222"
      },
      "source": [
        "!pip install mglearn"
      ],
      "execution_count": 1,
      "outputs": [
        {
          "output_type": "stream",
          "text": [
            "Collecting mglearn\n",
            "  Downloading mglearn-0.1.9.tar.gz (540 kB)\n",
            "\u001b[?25l\r\u001b[K     |▋                               | 10 kB 32.4 MB/s eta 0:00:01\r\u001b[K     |█▏                              | 20 kB 22.7 MB/s eta 0:00:01\r\u001b[K     |█▉                              | 30 kB 17.9 MB/s eta 0:00:01\r\u001b[K     |██▍                             | 40 kB 16.1 MB/s eta 0:00:01\r\u001b[K     |███                             | 51 kB 8.0 MB/s eta 0:00:01\r\u001b[K     |███▋                            | 61 kB 9.3 MB/s eta 0:00:01\r\u001b[K     |████▎                           | 71 kB 8.8 MB/s eta 0:00:01\r\u001b[K     |████▉                           | 81 kB 9.8 MB/s eta 0:00:01\r\u001b[K     |█████▌                          | 92 kB 10.3 MB/s eta 0:00:01\r\u001b[K     |██████                          | 102 kB 8.0 MB/s eta 0:00:01\r\u001b[K     |██████▊                         | 112 kB 8.0 MB/s eta 0:00:01\r\u001b[K     |███████▎                        | 122 kB 8.0 MB/s eta 0:00:01\r\u001b[K     |███████▉                        | 133 kB 8.0 MB/s eta 0:00:01\r\u001b[K     |████████▌                       | 143 kB 8.0 MB/s eta 0:00:01\r\u001b[K     |█████████                       | 153 kB 8.0 MB/s eta 0:00:01\r\u001b[K     |█████████▊                      | 163 kB 8.0 MB/s eta 0:00:01\r\u001b[K     |██████████▎                     | 174 kB 8.0 MB/s eta 0:00:01\r\u001b[K     |███████████                     | 184 kB 8.0 MB/s eta 0:00:01\r\u001b[K     |███████████▌                    | 194 kB 8.0 MB/s eta 0:00:01\r\u001b[K     |████████████▏                   | 204 kB 8.0 MB/s eta 0:00:01\r\u001b[K     |████████████▊                   | 215 kB 8.0 MB/s eta 0:00:01\r\u001b[K     |█████████████▍                  | 225 kB 8.0 MB/s eta 0:00:01\r\u001b[K     |██████████████                  | 235 kB 8.0 MB/s eta 0:00:01\r\u001b[K     |██████████████▋                 | 245 kB 8.0 MB/s eta 0:00:01\r\u001b[K     |███████████████▏                | 256 kB 8.0 MB/s eta 0:00:01\r\u001b[K     |███████████████▊                | 266 kB 8.0 MB/s eta 0:00:01\r\u001b[K     |████████████████▍               | 276 kB 8.0 MB/s eta 0:00:01\r\u001b[K     |█████████████████               | 286 kB 8.0 MB/s eta 0:00:01\r\u001b[K     |█████████████████▋              | 296 kB 8.0 MB/s eta 0:00:01\r\u001b[K     |██████████████████▏             | 307 kB 8.0 MB/s eta 0:00:01\r\u001b[K     |██████████████████▉             | 317 kB 8.0 MB/s eta 0:00:01\r\u001b[K     |███████████████████▍            | 327 kB 8.0 MB/s eta 0:00:01\r\u001b[K     |████████████████████            | 337 kB 8.0 MB/s eta 0:00:01\r\u001b[K     |████████████████████▋           | 348 kB 8.0 MB/s eta 0:00:01\r\u001b[K     |█████████████████████▎          | 358 kB 8.0 MB/s eta 0:00:01\r\u001b[K     |█████████████████████▉          | 368 kB 8.0 MB/s eta 0:00:01\r\u001b[K     |██████████████████████▌         | 378 kB 8.0 MB/s eta 0:00:01\r\u001b[K     |███████████████████████         | 389 kB 8.0 MB/s eta 0:00:01\r\u001b[K     |███████████████████████▋        | 399 kB 8.0 MB/s eta 0:00:01\r\u001b[K     |████████████████████████▎       | 409 kB 8.0 MB/s eta 0:00:01\r\u001b[K     |████████████████████████▉       | 419 kB 8.0 MB/s eta 0:00:01\r\u001b[K     |█████████████████████████▌      | 430 kB 8.0 MB/s eta 0:00:01\r\u001b[K     |██████████████████████████      | 440 kB 8.0 MB/s eta 0:00:01\r\u001b[K     |██████████████████████████▊     | 450 kB 8.0 MB/s eta 0:00:01\r\u001b[K     |███████████████████████████▎    | 460 kB 8.0 MB/s eta 0:00:01\r\u001b[K     |████████████████████████████    | 471 kB 8.0 MB/s eta 0:00:01\r\u001b[K     |████████████████████████████▌   | 481 kB 8.0 MB/s eta 0:00:01\r\u001b[K     |█████████████████████████████▏  | 491 kB 8.0 MB/s eta 0:00:01\r\u001b[K     |█████████████████████████████▊  | 501 kB 8.0 MB/s eta 0:00:01\r\u001b[K     |██████████████████████████████▍ | 512 kB 8.0 MB/s eta 0:00:01\r\u001b[K     |███████████████████████████████ | 522 kB 8.0 MB/s eta 0:00:01\r\u001b[K     |███████████████████████████████▌| 532 kB 8.0 MB/s eta 0:00:01\r\u001b[K     |████████████████████████████████| 540 kB 8.0 MB/s \n",
            "\u001b[?25hRequirement already satisfied: numpy in /usr/local/lib/python3.7/dist-packages (from mglearn) (1.19.5)\n",
            "Requirement already satisfied: matplotlib in /usr/local/lib/python3.7/dist-packages (from mglearn) (3.2.2)\n",
            "Requirement already satisfied: scikit-learn in /usr/local/lib/python3.7/dist-packages (from mglearn) (0.22.2.post1)\n",
            "Requirement already satisfied: pandas in /usr/local/lib/python3.7/dist-packages (from mglearn) (1.1.5)\n",
            "Requirement already satisfied: pillow in /usr/local/lib/python3.7/dist-packages (from mglearn) (7.1.2)\n",
            "Requirement already satisfied: cycler in /usr/local/lib/python3.7/dist-packages (from mglearn) (0.10.0)\n",
            "Requirement already satisfied: imageio in /usr/local/lib/python3.7/dist-packages (from mglearn) (2.4.1)\n",
            "Requirement already satisfied: joblib in /usr/local/lib/python3.7/dist-packages (from mglearn) (1.0.1)\n",
            "Requirement already satisfied: six in /usr/local/lib/python3.7/dist-packages (from cycler->mglearn) (1.15.0)\n",
            "Requirement already satisfied: pyparsing!=2.0.4,!=2.1.2,!=2.1.6,>=2.0.1 in /usr/local/lib/python3.7/dist-packages (from matplotlib->mglearn) (2.4.7)\n",
            "Requirement already satisfied: kiwisolver>=1.0.1 in /usr/local/lib/python3.7/dist-packages (from matplotlib->mglearn) (1.3.1)\n",
            "Requirement already satisfied: python-dateutil>=2.1 in /usr/local/lib/python3.7/dist-packages (from matplotlib->mglearn) (2.8.2)\n",
            "Requirement already satisfied: pytz>=2017.2 in /usr/local/lib/python3.7/dist-packages (from pandas->mglearn) (2018.9)\n",
            "Requirement already satisfied: scipy>=0.17.0 in /usr/local/lib/python3.7/dist-packages (from scikit-learn->mglearn) (1.4.1)\n",
            "Building wheels for collected packages: mglearn\n",
            "  Building wheel for mglearn (setup.py) ... \u001b[?25l\u001b[?25hdone\n",
            "  Created wheel for mglearn: filename=mglearn-0.1.9-py2.py3-none-any.whl size=582637 sha256=5f06ae42e0bac96c0caee850350a640043598d68f5c63c69c62f9251ece616d8\n",
            "  Stored in directory: /root/.cache/pip/wheels/f1/17/e1/1720d6dcd70187b6b6c3750cb3508798f2b1d57c9d3214b08b\n",
            "Successfully built mglearn\n",
            "Installing collected packages: mglearn\n",
            "Successfully installed mglearn-0.1.9\n"
          ],
          "name": "stdout"
        }
      ]
    },
    {
      "cell_type": "code",
      "metadata": {
        "id": "GqD041H8gIl0"
      },
      "source": [
        "import pandas as pd\n",
        "import numpy as np\n",
        "import os\n",
        "import mglearn\n",
        "import matplotlib.pyplot as plt\n",
        "import seaborn as sns\n",
        "from sklearn.preprocessing import StandardScaler, LabelEncoder\n",
        "from sklearn.ensemble import RandomForestClassifier\n",
        "from sklearn.model_selection import train_test_split\n",
        "from sklearn.metrics import confusion_matrix, classification_report, accuracy_score\n",
        "from sklearn.pipeline import Pipeline\n",
        "from sklearn.preprocessing import MinMaxScaler"
      ],
      "execution_count": 2,
      "outputs": []
    },
    {
      "cell_type": "markdown",
      "metadata": {
        "id": "LULtW_0lWjdn"
      },
      "source": [
        "# **DATA LOADING**"
      ]
    },
    {
      "cell_type": "code",
      "metadata": {
        "colab": {
          "base_uri": "https://localhost:8080/",
          "height": 473
        },
        "id": "SLknDveigWPb",
        "outputId": "381086a7-a786-4460-9591-315860e02782"
      },
      "source": [
        "df=pd.read_csv('Placement_Data_Full_Class.csv')\n",
        "df"
      ],
      "execution_count": 3,
      "outputs": [
        {
          "output_type": "execute_result",
          "data": {
            "text/html": [
              "<div>\n",
              "<style scoped>\n",
              "    .dataframe tbody tr th:only-of-type {\n",
              "        vertical-align: middle;\n",
              "    }\n",
              "\n",
              "    .dataframe tbody tr th {\n",
              "        vertical-align: top;\n",
              "    }\n",
              "\n",
              "    .dataframe thead th {\n",
              "        text-align: right;\n",
              "    }\n",
              "</style>\n",
              "<table border=\"1\" class=\"dataframe\">\n",
              "  <thead>\n",
              "    <tr style=\"text-align: right;\">\n",
              "      <th></th>\n",
              "      <th>sl_no</th>\n",
              "      <th>gender</th>\n",
              "      <th>ssc_p</th>\n",
              "      <th>ssc_b</th>\n",
              "      <th>hsc_p</th>\n",
              "      <th>hsc_b</th>\n",
              "      <th>hsc_s</th>\n",
              "      <th>degree_p</th>\n",
              "      <th>degree_t</th>\n",
              "      <th>workex</th>\n",
              "      <th>etest_p</th>\n",
              "      <th>specialisation</th>\n",
              "      <th>mba_p</th>\n",
              "      <th>status</th>\n",
              "      <th>salary</th>\n",
              "    </tr>\n",
              "  </thead>\n",
              "  <tbody>\n",
              "    <tr>\n",
              "      <th>0</th>\n",
              "      <td>1</td>\n",
              "      <td>M</td>\n",
              "      <td>67.00</td>\n",
              "      <td>Others</td>\n",
              "      <td>91.00</td>\n",
              "      <td>Others</td>\n",
              "      <td>Commerce</td>\n",
              "      <td>58.00</td>\n",
              "      <td>Sci&amp;Tech</td>\n",
              "      <td>No</td>\n",
              "      <td>55.0</td>\n",
              "      <td>Mkt&amp;HR</td>\n",
              "      <td>58.80</td>\n",
              "      <td>Placed</td>\n",
              "      <td>270000.0</td>\n",
              "    </tr>\n",
              "    <tr>\n",
              "      <th>1</th>\n",
              "      <td>2</td>\n",
              "      <td>M</td>\n",
              "      <td>79.33</td>\n",
              "      <td>Central</td>\n",
              "      <td>78.33</td>\n",
              "      <td>Others</td>\n",
              "      <td>Science</td>\n",
              "      <td>77.48</td>\n",
              "      <td>Sci&amp;Tech</td>\n",
              "      <td>Yes</td>\n",
              "      <td>86.5</td>\n",
              "      <td>Mkt&amp;Fin</td>\n",
              "      <td>66.28</td>\n",
              "      <td>Placed</td>\n",
              "      <td>200000.0</td>\n",
              "    </tr>\n",
              "    <tr>\n",
              "      <th>2</th>\n",
              "      <td>3</td>\n",
              "      <td>M</td>\n",
              "      <td>65.00</td>\n",
              "      <td>Central</td>\n",
              "      <td>68.00</td>\n",
              "      <td>Central</td>\n",
              "      <td>Arts</td>\n",
              "      <td>64.00</td>\n",
              "      <td>Comm&amp;Mgmt</td>\n",
              "      <td>No</td>\n",
              "      <td>75.0</td>\n",
              "      <td>Mkt&amp;Fin</td>\n",
              "      <td>57.80</td>\n",
              "      <td>Placed</td>\n",
              "      <td>250000.0</td>\n",
              "    </tr>\n",
              "    <tr>\n",
              "      <th>3</th>\n",
              "      <td>4</td>\n",
              "      <td>M</td>\n",
              "      <td>56.00</td>\n",
              "      <td>Central</td>\n",
              "      <td>52.00</td>\n",
              "      <td>Central</td>\n",
              "      <td>Science</td>\n",
              "      <td>52.00</td>\n",
              "      <td>Sci&amp;Tech</td>\n",
              "      <td>No</td>\n",
              "      <td>66.0</td>\n",
              "      <td>Mkt&amp;HR</td>\n",
              "      <td>59.43</td>\n",
              "      <td>Not Placed</td>\n",
              "      <td>NaN</td>\n",
              "    </tr>\n",
              "    <tr>\n",
              "      <th>4</th>\n",
              "      <td>5</td>\n",
              "      <td>M</td>\n",
              "      <td>85.80</td>\n",
              "      <td>Central</td>\n",
              "      <td>73.60</td>\n",
              "      <td>Central</td>\n",
              "      <td>Commerce</td>\n",
              "      <td>73.30</td>\n",
              "      <td>Comm&amp;Mgmt</td>\n",
              "      <td>No</td>\n",
              "      <td>96.8</td>\n",
              "      <td>Mkt&amp;Fin</td>\n",
              "      <td>55.50</td>\n",
              "      <td>Placed</td>\n",
              "      <td>425000.0</td>\n",
              "    </tr>\n",
              "    <tr>\n",
              "      <th>...</th>\n",
              "      <td>...</td>\n",
              "      <td>...</td>\n",
              "      <td>...</td>\n",
              "      <td>...</td>\n",
              "      <td>...</td>\n",
              "      <td>...</td>\n",
              "      <td>...</td>\n",
              "      <td>...</td>\n",
              "      <td>...</td>\n",
              "      <td>...</td>\n",
              "      <td>...</td>\n",
              "      <td>...</td>\n",
              "      <td>...</td>\n",
              "      <td>...</td>\n",
              "      <td>...</td>\n",
              "    </tr>\n",
              "    <tr>\n",
              "      <th>210</th>\n",
              "      <td>211</td>\n",
              "      <td>M</td>\n",
              "      <td>80.60</td>\n",
              "      <td>Others</td>\n",
              "      <td>82.00</td>\n",
              "      <td>Others</td>\n",
              "      <td>Commerce</td>\n",
              "      <td>77.60</td>\n",
              "      <td>Comm&amp;Mgmt</td>\n",
              "      <td>No</td>\n",
              "      <td>91.0</td>\n",
              "      <td>Mkt&amp;Fin</td>\n",
              "      <td>74.49</td>\n",
              "      <td>Placed</td>\n",
              "      <td>400000.0</td>\n",
              "    </tr>\n",
              "    <tr>\n",
              "      <th>211</th>\n",
              "      <td>212</td>\n",
              "      <td>M</td>\n",
              "      <td>58.00</td>\n",
              "      <td>Others</td>\n",
              "      <td>60.00</td>\n",
              "      <td>Others</td>\n",
              "      <td>Science</td>\n",
              "      <td>72.00</td>\n",
              "      <td>Sci&amp;Tech</td>\n",
              "      <td>No</td>\n",
              "      <td>74.0</td>\n",
              "      <td>Mkt&amp;Fin</td>\n",
              "      <td>53.62</td>\n",
              "      <td>Placed</td>\n",
              "      <td>275000.0</td>\n",
              "    </tr>\n",
              "    <tr>\n",
              "      <th>212</th>\n",
              "      <td>213</td>\n",
              "      <td>M</td>\n",
              "      <td>67.00</td>\n",
              "      <td>Others</td>\n",
              "      <td>67.00</td>\n",
              "      <td>Others</td>\n",
              "      <td>Commerce</td>\n",
              "      <td>73.00</td>\n",
              "      <td>Comm&amp;Mgmt</td>\n",
              "      <td>Yes</td>\n",
              "      <td>59.0</td>\n",
              "      <td>Mkt&amp;Fin</td>\n",
              "      <td>69.72</td>\n",
              "      <td>Placed</td>\n",
              "      <td>295000.0</td>\n",
              "    </tr>\n",
              "    <tr>\n",
              "      <th>213</th>\n",
              "      <td>214</td>\n",
              "      <td>F</td>\n",
              "      <td>74.00</td>\n",
              "      <td>Others</td>\n",
              "      <td>66.00</td>\n",
              "      <td>Others</td>\n",
              "      <td>Commerce</td>\n",
              "      <td>58.00</td>\n",
              "      <td>Comm&amp;Mgmt</td>\n",
              "      <td>No</td>\n",
              "      <td>70.0</td>\n",
              "      <td>Mkt&amp;HR</td>\n",
              "      <td>60.23</td>\n",
              "      <td>Placed</td>\n",
              "      <td>204000.0</td>\n",
              "    </tr>\n",
              "    <tr>\n",
              "      <th>214</th>\n",
              "      <td>215</td>\n",
              "      <td>M</td>\n",
              "      <td>62.00</td>\n",
              "      <td>Central</td>\n",
              "      <td>58.00</td>\n",
              "      <td>Others</td>\n",
              "      <td>Science</td>\n",
              "      <td>53.00</td>\n",
              "      <td>Comm&amp;Mgmt</td>\n",
              "      <td>No</td>\n",
              "      <td>89.0</td>\n",
              "      <td>Mkt&amp;HR</td>\n",
              "      <td>60.22</td>\n",
              "      <td>Not Placed</td>\n",
              "      <td>NaN</td>\n",
              "    </tr>\n",
              "  </tbody>\n",
              "</table>\n",
              "<p>215 rows × 15 columns</p>\n",
              "</div>"
            ],
            "text/plain": [
              "     sl_no gender  ssc_p    ssc_b  ...  specialisation  mba_p      status    salary\n",
              "0        1      M  67.00   Others  ...          Mkt&HR  58.80      Placed  270000.0\n",
              "1        2      M  79.33  Central  ...         Mkt&Fin  66.28      Placed  200000.0\n",
              "2        3      M  65.00  Central  ...         Mkt&Fin  57.80      Placed  250000.0\n",
              "3        4      M  56.00  Central  ...          Mkt&HR  59.43  Not Placed       NaN\n",
              "4        5      M  85.80  Central  ...         Mkt&Fin  55.50      Placed  425000.0\n",
              "..     ...    ...    ...      ...  ...             ...    ...         ...       ...\n",
              "210    211      M  80.60   Others  ...         Mkt&Fin  74.49      Placed  400000.0\n",
              "211    212      M  58.00   Others  ...         Mkt&Fin  53.62      Placed  275000.0\n",
              "212    213      M  67.00   Others  ...         Mkt&Fin  69.72      Placed  295000.0\n",
              "213    214      F  74.00   Others  ...          Mkt&HR  60.23      Placed  204000.0\n",
              "214    215      M  62.00  Central  ...          Mkt&HR  60.22  Not Placed       NaN\n",
              "\n",
              "[215 rows x 15 columns]"
            ]
          },
          "metadata": {},
          "execution_count": 3
        }
      ]
    },
    {
      "cell_type": "code",
      "metadata": {
        "colab": {
          "base_uri": "https://localhost:8080/",
          "height": 241
        },
        "id": "yrz_2yiGWp6B",
        "outputId": "bc2888e7-bb99-49b4-a963-42dd6da85df5"
      },
      "source": [
        "df.head()"
      ],
      "execution_count": 4,
      "outputs": [
        {
          "output_type": "execute_result",
          "data": {
            "text/html": [
              "<div>\n",
              "<style scoped>\n",
              "    .dataframe tbody tr th:only-of-type {\n",
              "        vertical-align: middle;\n",
              "    }\n",
              "\n",
              "    .dataframe tbody tr th {\n",
              "        vertical-align: top;\n",
              "    }\n",
              "\n",
              "    .dataframe thead th {\n",
              "        text-align: right;\n",
              "    }\n",
              "</style>\n",
              "<table border=\"1\" class=\"dataframe\">\n",
              "  <thead>\n",
              "    <tr style=\"text-align: right;\">\n",
              "      <th></th>\n",
              "      <th>sl_no</th>\n",
              "      <th>gender</th>\n",
              "      <th>ssc_p</th>\n",
              "      <th>ssc_b</th>\n",
              "      <th>hsc_p</th>\n",
              "      <th>hsc_b</th>\n",
              "      <th>hsc_s</th>\n",
              "      <th>degree_p</th>\n",
              "      <th>degree_t</th>\n",
              "      <th>workex</th>\n",
              "      <th>etest_p</th>\n",
              "      <th>specialisation</th>\n",
              "      <th>mba_p</th>\n",
              "      <th>status</th>\n",
              "      <th>salary</th>\n",
              "    </tr>\n",
              "  </thead>\n",
              "  <tbody>\n",
              "    <tr>\n",
              "      <th>0</th>\n",
              "      <td>1</td>\n",
              "      <td>M</td>\n",
              "      <td>67.00</td>\n",
              "      <td>Others</td>\n",
              "      <td>91.00</td>\n",
              "      <td>Others</td>\n",
              "      <td>Commerce</td>\n",
              "      <td>58.00</td>\n",
              "      <td>Sci&amp;Tech</td>\n",
              "      <td>No</td>\n",
              "      <td>55.0</td>\n",
              "      <td>Mkt&amp;HR</td>\n",
              "      <td>58.80</td>\n",
              "      <td>Placed</td>\n",
              "      <td>270000.0</td>\n",
              "    </tr>\n",
              "    <tr>\n",
              "      <th>1</th>\n",
              "      <td>2</td>\n",
              "      <td>M</td>\n",
              "      <td>79.33</td>\n",
              "      <td>Central</td>\n",
              "      <td>78.33</td>\n",
              "      <td>Others</td>\n",
              "      <td>Science</td>\n",
              "      <td>77.48</td>\n",
              "      <td>Sci&amp;Tech</td>\n",
              "      <td>Yes</td>\n",
              "      <td>86.5</td>\n",
              "      <td>Mkt&amp;Fin</td>\n",
              "      <td>66.28</td>\n",
              "      <td>Placed</td>\n",
              "      <td>200000.0</td>\n",
              "    </tr>\n",
              "    <tr>\n",
              "      <th>2</th>\n",
              "      <td>3</td>\n",
              "      <td>M</td>\n",
              "      <td>65.00</td>\n",
              "      <td>Central</td>\n",
              "      <td>68.00</td>\n",
              "      <td>Central</td>\n",
              "      <td>Arts</td>\n",
              "      <td>64.00</td>\n",
              "      <td>Comm&amp;Mgmt</td>\n",
              "      <td>No</td>\n",
              "      <td>75.0</td>\n",
              "      <td>Mkt&amp;Fin</td>\n",
              "      <td>57.80</td>\n",
              "      <td>Placed</td>\n",
              "      <td>250000.0</td>\n",
              "    </tr>\n",
              "    <tr>\n",
              "      <th>3</th>\n",
              "      <td>4</td>\n",
              "      <td>M</td>\n",
              "      <td>56.00</td>\n",
              "      <td>Central</td>\n",
              "      <td>52.00</td>\n",
              "      <td>Central</td>\n",
              "      <td>Science</td>\n",
              "      <td>52.00</td>\n",
              "      <td>Sci&amp;Tech</td>\n",
              "      <td>No</td>\n",
              "      <td>66.0</td>\n",
              "      <td>Mkt&amp;HR</td>\n",
              "      <td>59.43</td>\n",
              "      <td>Not Placed</td>\n",
              "      <td>NaN</td>\n",
              "    </tr>\n",
              "    <tr>\n",
              "      <th>4</th>\n",
              "      <td>5</td>\n",
              "      <td>M</td>\n",
              "      <td>85.80</td>\n",
              "      <td>Central</td>\n",
              "      <td>73.60</td>\n",
              "      <td>Central</td>\n",
              "      <td>Commerce</td>\n",
              "      <td>73.30</td>\n",
              "      <td>Comm&amp;Mgmt</td>\n",
              "      <td>No</td>\n",
              "      <td>96.8</td>\n",
              "      <td>Mkt&amp;Fin</td>\n",
              "      <td>55.50</td>\n",
              "      <td>Placed</td>\n",
              "      <td>425000.0</td>\n",
              "    </tr>\n",
              "  </tbody>\n",
              "</table>\n",
              "</div>"
            ],
            "text/plain": [
              "   sl_no gender  ssc_p    ssc_b  ...  specialisation  mba_p      status    salary\n",
              "0      1      M  67.00   Others  ...          Mkt&HR  58.80      Placed  270000.0\n",
              "1      2      M  79.33  Central  ...         Mkt&Fin  66.28      Placed  200000.0\n",
              "2      3      M  65.00  Central  ...         Mkt&Fin  57.80      Placed  250000.0\n",
              "3      4      M  56.00  Central  ...          Mkt&HR  59.43  Not Placed       NaN\n",
              "4      5      M  85.80  Central  ...         Mkt&Fin  55.50      Placed  425000.0\n",
              "\n",
              "[5 rows x 15 columns]"
            ]
          },
          "metadata": {},
          "execution_count": 4
        }
      ]
    },
    {
      "cell_type": "code",
      "metadata": {
        "colab": {
          "base_uri": "https://localhost:8080/",
          "height": 241
        },
        "id": "cC_BelHpWtDl",
        "outputId": "e6e2dce1-e92b-4539-c661-4b07b9b21e3c"
      },
      "source": [
        "df.tail()"
      ],
      "execution_count": 5,
      "outputs": [
        {
          "output_type": "execute_result",
          "data": {
            "text/html": [
              "<div>\n",
              "<style scoped>\n",
              "    .dataframe tbody tr th:only-of-type {\n",
              "        vertical-align: middle;\n",
              "    }\n",
              "\n",
              "    .dataframe tbody tr th {\n",
              "        vertical-align: top;\n",
              "    }\n",
              "\n",
              "    .dataframe thead th {\n",
              "        text-align: right;\n",
              "    }\n",
              "</style>\n",
              "<table border=\"1\" class=\"dataframe\">\n",
              "  <thead>\n",
              "    <tr style=\"text-align: right;\">\n",
              "      <th></th>\n",
              "      <th>sl_no</th>\n",
              "      <th>gender</th>\n",
              "      <th>ssc_p</th>\n",
              "      <th>ssc_b</th>\n",
              "      <th>hsc_p</th>\n",
              "      <th>hsc_b</th>\n",
              "      <th>hsc_s</th>\n",
              "      <th>degree_p</th>\n",
              "      <th>degree_t</th>\n",
              "      <th>workex</th>\n",
              "      <th>etest_p</th>\n",
              "      <th>specialisation</th>\n",
              "      <th>mba_p</th>\n",
              "      <th>status</th>\n",
              "      <th>salary</th>\n",
              "    </tr>\n",
              "  </thead>\n",
              "  <tbody>\n",
              "    <tr>\n",
              "      <th>210</th>\n",
              "      <td>211</td>\n",
              "      <td>M</td>\n",
              "      <td>80.6</td>\n",
              "      <td>Others</td>\n",
              "      <td>82.0</td>\n",
              "      <td>Others</td>\n",
              "      <td>Commerce</td>\n",
              "      <td>77.6</td>\n",
              "      <td>Comm&amp;Mgmt</td>\n",
              "      <td>No</td>\n",
              "      <td>91.0</td>\n",
              "      <td>Mkt&amp;Fin</td>\n",
              "      <td>74.49</td>\n",
              "      <td>Placed</td>\n",
              "      <td>400000.0</td>\n",
              "    </tr>\n",
              "    <tr>\n",
              "      <th>211</th>\n",
              "      <td>212</td>\n",
              "      <td>M</td>\n",
              "      <td>58.0</td>\n",
              "      <td>Others</td>\n",
              "      <td>60.0</td>\n",
              "      <td>Others</td>\n",
              "      <td>Science</td>\n",
              "      <td>72.0</td>\n",
              "      <td>Sci&amp;Tech</td>\n",
              "      <td>No</td>\n",
              "      <td>74.0</td>\n",
              "      <td>Mkt&amp;Fin</td>\n",
              "      <td>53.62</td>\n",
              "      <td>Placed</td>\n",
              "      <td>275000.0</td>\n",
              "    </tr>\n",
              "    <tr>\n",
              "      <th>212</th>\n",
              "      <td>213</td>\n",
              "      <td>M</td>\n",
              "      <td>67.0</td>\n",
              "      <td>Others</td>\n",
              "      <td>67.0</td>\n",
              "      <td>Others</td>\n",
              "      <td>Commerce</td>\n",
              "      <td>73.0</td>\n",
              "      <td>Comm&amp;Mgmt</td>\n",
              "      <td>Yes</td>\n",
              "      <td>59.0</td>\n",
              "      <td>Mkt&amp;Fin</td>\n",
              "      <td>69.72</td>\n",
              "      <td>Placed</td>\n",
              "      <td>295000.0</td>\n",
              "    </tr>\n",
              "    <tr>\n",
              "      <th>213</th>\n",
              "      <td>214</td>\n",
              "      <td>F</td>\n",
              "      <td>74.0</td>\n",
              "      <td>Others</td>\n",
              "      <td>66.0</td>\n",
              "      <td>Others</td>\n",
              "      <td>Commerce</td>\n",
              "      <td>58.0</td>\n",
              "      <td>Comm&amp;Mgmt</td>\n",
              "      <td>No</td>\n",
              "      <td>70.0</td>\n",
              "      <td>Mkt&amp;HR</td>\n",
              "      <td>60.23</td>\n",
              "      <td>Placed</td>\n",
              "      <td>204000.0</td>\n",
              "    </tr>\n",
              "    <tr>\n",
              "      <th>214</th>\n",
              "      <td>215</td>\n",
              "      <td>M</td>\n",
              "      <td>62.0</td>\n",
              "      <td>Central</td>\n",
              "      <td>58.0</td>\n",
              "      <td>Others</td>\n",
              "      <td>Science</td>\n",
              "      <td>53.0</td>\n",
              "      <td>Comm&amp;Mgmt</td>\n",
              "      <td>No</td>\n",
              "      <td>89.0</td>\n",
              "      <td>Mkt&amp;HR</td>\n",
              "      <td>60.22</td>\n",
              "      <td>Not Placed</td>\n",
              "      <td>NaN</td>\n",
              "    </tr>\n",
              "  </tbody>\n",
              "</table>\n",
              "</div>"
            ],
            "text/plain": [
              "     sl_no gender  ssc_p    ssc_b  ...  specialisation  mba_p      status    salary\n",
              "210    211      M   80.6   Others  ...         Mkt&Fin  74.49      Placed  400000.0\n",
              "211    212      M   58.0   Others  ...         Mkt&Fin  53.62      Placed  275000.0\n",
              "212    213      M   67.0   Others  ...         Mkt&Fin  69.72      Placed  295000.0\n",
              "213    214      F   74.0   Others  ...          Mkt&HR  60.23      Placed  204000.0\n",
              "214    215      M   62.0  Central  ...          Mkt&HR  60.22  Not Placed       NaN\n",
              "\n",
              "[5 rows x 15 columns]"
            ]
          },
          "metadata": {},
          "execution_count": 5
        }
      ]
    },
    {
      "cell_type": "markdown",
      "metadata": {
        "id": "SyGxY_d8Wv8P"
      },
      "source": [
        "# **DATA EXPLORATION**"
      ]
    },
    {
      "cell_type": "code",
      "metadata": {
        "colab": {
          "base_uri": "https://localhost:8080/"
        },
        "id": "bD7T7jtuhAdp",
        "outputId": "11d3348e-536e-473d-d7bd-0c3eb65ffb0a"
      },
      "source": [
        "len(df)"
      ],
      "execution_count": 6,
      "outputs": [
        {
          "output_type": "execute_result",
          "data": {
            "text/plain": [
              "215"
            ]
          },
          "metadata": {},
          "execution_count": 6
        }
      ]
    },
    {
      "cell_type": "code",
      "metadata": {
        "colab": {
          "base_uri": "https://localhost:8080/"
        },
        "id": "4mmpV-NxhGqb",
        "outputId": "5514cf90-113b-4375-cf5d-0745e58e909c"
      },
      "source": [
        "df.shape"
      ],
      "execution_count": 7,
      "outputs": [
        {
          "output_type": "execute_result",
          "data": {
            "text/plain": [
              "(215, 15)"
            ]
          },
          "metadata": {},
          "execution_count": 7
        }
      ]
    },
    {
      "cell_type": "code",
      "metadata": {
        "colab": {
          "base_uri": "https://localhost:8080/"
        },
        "id": "U7vA6d3ThKLt",
        "outputId": "116ccd30-3df3-426a-b837-fd2de7b88e9d"
      },
      "source": [
        "df.columns"
      ],
      "execution_count": 8,
      "outputs": [
        {
          "output_type": "execute_result",
          "data": {
            "text/plain": [
              "Index(['sl_no', 'gender', 'ssc_p', 'ssc_b', 'hsc_p', 'hsc_b', 'hsc_s',\n",
              "       'degree_p', 'degree_t', 'workex', 'etest_p', 'specialisation', 'mba_p',\n",
              "       'status', 'salary'],\n",
              "      dtype='object')"
            ]
          },
          "metadata": {},
          "execution_count": 8
        }
      ]
    },
    {
      "cell_type": "code",
      "metadata": {
        "colab": {
          "base_uri": "https://localhost:8080/"
        },
        "id": "YquygybshMK3",
        "outputId": "01899346-dc05-4bfa-a04f-dcd635e425c6"
      },
      "source": [
        "df.info()"
      ],
      "execution_count": 9,
      "outputs": [
        {
          "output_type": "stream",
          "text": [
            "<class 'pandas.core.frame.DataFrame'>\n",
            "RangeIndex: 215 entries, 0 to 214\n",
            "Data columns (total 15 columns):\n",
            " #   Column          Non-Null Count  Dtype  \n",
            "---  ------          --------------  -----  \n",
            " 0   sl_no           215 non-null    int64  \n",
            " 1   gender          215 non-null    object \n",
            " 2   ssc_p           215 non-null    float64\n",
            " 3   ssc_b           215 non-null    object \n",
            " 4   hsc_p           215 non-null    float64\n",
            " 5   hsc_b           215 non-null    object \n",
            " 6   hsc_s           215 non-null    object \n",
            " 7   degree_p        215 non-null    float64\n",
            " 8   degree_t        215 non-null    object \n",
            " 9   workex          215 non-null    object \n",
            " 10  etest_p         215 non-null    float64\n",
            " 11  specialisation  215 non-null    object \n",
            " 12  mba_p           215 non-null    float64\n",
            " 13  status          215 non-null    object \n",
            " 14  salary          148 non-null    float64\n",
            "dtypes: float64(6), int64(1), object(8)\n",
            "memory usage: 25.3+ KB\n"
          ],
          "name": "stdout"
        }
      ]
    },
    {
      "cell_type": "code",
      "metadata": {
        "colab": {
          "base_uri": "https://localhost:8080/",
          "height": 266
        },
        "id": "Guq3iT6NhRL7",
        "outputId": "54702a5a-1f1d-4e2c-9ba6-db81d3a3834e"
      },
      "source": [
        "df.describe().T"
      ],
      "execution_count": 10,
      "outputs": [
        {
          "output_type": "execute_result",
          "data": {
            "text/html": [
              "<div>\n",
              "<style scoped>\n",
              "    .dataframe tbody tr th:only-of-type {\n",
              "        vertical-align: middle;\n",
              "    }\n",
              "\n",
              "    .dataframe tbody tr th {\n",
              "        vertical-align: top;\n",
              "    }\n",
              "\n",
              "    .dataframe thead th {\n",
              "        text-align: right;\n",
              "    }\n",
              "</style>\n",
              "<table border=\"1\" class=\"dataframe\">\n",
              "  <thead>\n",
              "    <tr style=\"text-align: right;\">\n",
              "      <th></th>\n",
              "      <th>count</th>\n",
              "      <th>mean</th>\n",
              "      <th>std</th>\n",
              "      <th>min</th>\n",
              "      <th>25%</th>\n",
              "      <th>50%</th>\n",
              "      <th>75%</th>\n",
              "      <th>max</th>\n",
              "    </tr>\n",
              "  </thead>\n",
              "  <tbody>\n",
              "    <tr>\n",
              "      <th>sl_no</th>\n",
              "      <td>215.0</td>\n",
              "      <td>108.000000</td>\n",
              "      <td>62.209324</td>\n",
              "      <td>1.00</td>\n",
              "      <td>54.500</td>\n",
              "      <td>108.0</td>\n",
              "      <td>161.500</td>\n",
              "      <td>215.00</td>\n",
              "    </tr>\n",
              "    <tr>\n",
              "      <th>ssc_p</th>\n",
              "      <td>215.0</td>\n",
              "      <td>67.303395</td>\n",
              "      <td>10.827205</td>\n",
              "      <td>40.89</td>\n",
              "      <td>60.600</td>\n",
              "      <td>67.0</td>\n",
              "      <td>75.700</td>\n",
              "      <td>89.40</td>\n",
              "    </tr>\n",
              "    <tr>\n",
              "      <th>hsc_p</th>\n",
              "      <td>215.0</td>\n",
              "      <td>66.333163</td>\n",
              "      <td>10.897509</td>\n",
              "      <td>37.00</td>\n",
              "      <td>60.900</td>\n",
              "      <td>65.0</td>\n",
              "      <td>73.000</td>\n",
              "      <td>97.70</td>\n",
              "    </tr>\n",
              "    <tr>\n",
              "      <th>degree_p</th>\n",
              "      <td>215.0</td>\n",
              "      <td>66.370186</td>\n",
              "      <td>7.358743</td>\n",
              "      <td>50.00</td>\n",
              "      <td>61.000</td>\n",
              "      <td>66.0</td>\n",
              "      <td>72.000</td>\n",
              "      <td>91.00</td>\n",
              "    </tr>\n",
              "    <tr>\n",
              "      <th>etest_p</th>\n",
              "      <td>215.0</td>\n",
              "      <td>72.100558</td>\n",
              "      <td>13.275956</td>\n",
              "      <td>50.00</td>\n",
              "      <td>60.000</td>\n",
              "      <td>71.0</td>\n",
              "      <td>83.500</td>\n",
              "      <td>98.00</td>\n",
              "    </tr>\n",
              "    <tr>\n",
              "      <th>mba_p</th>\n",
              "      <td>215.0</td>\n",
              "      <td>62.278186</td>\n",
              "      <td>5.833385</td>\n",
              "      <td>51.21</td>\n",
              "      <td>57.945</td>\n",
              "      <td>62.0</td>\n",
              "      <td>66.255</td>\n",
              "      <td>77.89</td>\n",
              "    </tr>\n",
              "    <tr>\n",
              "      <th>salary</th>\n",
              "      <td>148.0</td>\n",
              "      <td>288655.405405</td>\n",
              "      <td>93457.452420</td>\n",
              "      <td>200000.00</td>\n",
              "      <td>240000.000</td>\n",
              "      <td>265000.0</td>\n",
              "      <td>300000.000</td>\n",
              "      <td>940000.00</td>\n",
              "    </tr>\n",
              "  </tbody>\n",
              "</table>\n",
              "</div>"
            ],
            "text/plain": [
              "          count           mean           std  ...       50%         75%        max\n",
              "sl_no     215.0     108.000000     62.209324  ...     108.0     161.500     215.00\n",
              "ssc_p     215.0      67.303395     10.827205  ...      67.0      75.700      89.40\n",
              "hsc_p     215.0      66.333163     10.897509  ...      65.0      73.000      97.70\n",
              "degree_p  215.0      66.370186      7.358743  ...      66.0      72.000      91.00\n",
              "etest_p   215.0      72.100558     13.275956  ...      71.0      83.500      98.00\n",
              "mba_p     215.0      62.278186      5.833385  ...      62.0      66.255      77.89\n",
              "salary    148.0  288655.405405  93457.452420  ...  265000.0  300000.000  940000.00\n",
              "\n",
              "[7 rows x 8 columns]"
            ]
          },
          "metadata": {},
          "execution_count": 10
        }
      ]
    },
    {
      "cell_type": "markdown",
      "metadata": {
        "id": "Kf2RiBFDW1Sr"
      },
      "source": [
        "# **MISSING VALUE**"
      ]
    },
    {
      "cell_type": "code",
      "metadata": {
        "colab": {
          "base_uri": "https://localhost:8080/"
        },
        "id": "0BIsUwukhUHd",
        "outputId": "6517a8ff-c5ce-40be-f08b-0fcd32dac2f3"
      },
      "source": [
        "df.isnull().sum()"
      ],
      "execution_count": 11,
      "outputs": [
        {
          "output_type": "execute_result",
          "data": {
            "text/plain": [
              "sl_no              0\n",
              "gender             0\n",
              "ssc_p              0\n",
              "ssc_b              0\n",
              "hsc_p              0\n",
              "hsc_b              0\n",
              "hsc_s              0\n",
              "degree_p           0\n",
              "degree_t           0\n",
              "workex             0\n",
              "etest_p            0\n",
              "specialisation     0\n",
              "mba_p              0\n",
              "status             0\n",
              "salary            67\n",
              "dtype: int64"
            ]
          },
          "metadata": {},
          "execution_count": 11
        }
      ]
    },
    {
      "cell_type": "code",
      "metadata": {
        "colab": {
          "base_uri": "https://localhost:8080/"
        },
        "id": "Luo0JdUGhaAD",
        "outputId": "4138a039-b780-408c-ccb7-4dcbaf75d9c3"
      },
      "source": [
        "df['salary'].value_counts()"
      ],
      "execution_count": 12,
      "outputs": [
        {
          "output_type": "execute_result",
          "data": {
            "text/plain": [
              "300000.0    22\n",
              "250000.0    18\n",
              "240000.0    15\n",
              "260000.0     7\n",
              "265000.0     6\n",
              "200000.0     6\n",
              "360000.0     6\n",
              "220000.0     5\n",
              "275000.0     5\n",
              "270000.0     4\n",
              "210000.0     4\n",
              "400000.0     4\n",
              "350000.0     3\n",
              "216000.0     3\n",
              "500000.0     3\n",
              "280000.0     2\n",
              "236000.0     2\n",
              "218000.0     2\n",
              "252000.0     2\n",
              "204000.0     2\n",
              "230000.0     2\n",
              "276000.0     2\n",
              "231000.0     1\n",
              "380000.0     1\n",
              "411000.0     1\n",
              "650000.0     1\n",
              "393000.0     1\n",
              "225000.0     1\n",
              "336000.0     1\n",
              "264000.0     1\n",
              "278000.0     1\n",
              "287000.0     1\n",
              "940000.0     1\n",
              "340000.0     1\n",
              "285000.0     1\n",
              "425000.0     1\n",
              "290000.0     1\n",
              "690000.0     1\n",
              "233000.0     1\n",
              "255000.0     1\n",
              "295000.0     1\n",
              "450000.0     1\n",
              "268000.0     1\n",
              "420000.0     1\n",
              "320000.0     1\n",
              "Name: salary, dtype: int64"
            ]
          },
          "metadata": {},
          "execution_count": 12
        }
      ]
    },
    {
      "cell_type": "code",
      "metadata": {
        "colab": {
          "base_uri": "https://localhost:8080/"
        },
        "id": "Dap82UFfhiHg",
        "outputId": "5076b1f6-891a-4f73-8ed2-f0043bc8bb81"
      },
      "source": [
        "df['salary'].mean()"
      ],
      "execution_count": 13,
      "outputs": [
        {
          "output_type": "execute_result",
          "data": {
            "text/plain": [
              "288655.4054054054"
            ]
          },
          "metadata": {},
          "execution_count": 13
        }
      ]
    },
    {
      "cell_type": "code",
      "metadata": {
        "id": "Kv9baTw0hqHc"
      },
      "source": [
        "df['salary'].fillna('288655.0', inplace = True)"
      ],
      "execution_count": 14,
      "outputs": []
    },
    {
      "cell_type": "code",
      "metadata": {
        "colab": {
          "base_uri": "https://localhost:8080/"
        },
        "id": "bV05O5RkhxY2",
        "outputId": "d9fa7e51-38f4-43a8-c1d2-c220088a69ac"
      },
      "source": [
        "df.isnull().sum()"
      ],
      "execution_count": 15,
      "outputs": [
        {
          "output_type": "execute_result",
          "data": {
            "text/plain": [
              "sl_no             0\n",
              "gender            0\n",
              "ssc_p             0\n",
              "ssc_b             0\n",
              "hsc_p             0\n",
              "hsc_b             0\n",
              "hsc_s             0\n",
              "degree_p          0\n",
              "degree_t          0\n",
              "workex            0\n",
              "etest_p           0\n",
              "specialisation    0\n",
              "mba_p             0\n",
              "status            0\n",
              "salary            0\n",
              "dtype: int64"
            ]
          },
          "metadata": {},
          "execution_count": 15
        }
      ]
    },
    {
      "cell_type": "markdown",
      "metadata": {
        "id": "k-MmmGImXMp2"
      },
      "source": [
        "# **EDA**"
      ]
    },
    {
      "cell_type": "code",
      "metadata": {
        "colab": {
          "base_uri": "https://localhost:8080/",
          "height": 885
        },
        "id": "tM4x60pFXOfR",
        "outputId": "17c066f2-e17b-4128-c620-ce8a73f201fb"
      },
      "source": [
        "plt.figure(figsize=(15,15))\n",
        "sns.heatmap(df.corr(),vmin=-1, vmax=1, cmap=sns.diverging_palette(20, 220, as_cmap=True), annot=True, linewidths=.5)"
      ],
      "execution_count": 16,
      "outputs": [
        {
          "output_type": "execute_result",
          "data": {
            "text/plain": [
              "<matplotlib.axes._subplots.AxesSubplot at 0x7fa3dd7d6850>"
            ]
          },
          "metadata": {},
          "execution_count": 16
        },
        {
          "output_type": "display_data",
          "data": {
            "image/png": "[encoded data removed]",
            "text/plain": [
              "<Figure size 1080x1080 with 2 Axes>"
            ]
          },
          "metadata": {
            "needs_background": "light"
          }
        }
      ]
    },
    {
      "cell_type": "code",
      "metadata": {
        "id": "-H1WhTHHXUw5"
      },
      "source": [
        "num_dat=df[df.describe().columns.values]\n",
        "cat_dat=df.drop(columns=df.describe().columns.values)"
      ],
      "execution_count": 17,
      "outputs": []
    },
    {
      "cell_type": "code",
      "metadata": {
        "colab": {
          "base_uri": "https://localhost:8080/"
        },
        "id": "B-EhfeSIXYTd",
        "outputId": "69767a21-91ba-4a47-a7de-c52e587f4be8"
      },
      "source": [
        "num_dat.columns"
      ],
      "execution_count": 18,
      "outputs": [
        {
          "output_type": "execute_result",
          "data": {
            "text/plain": [
              "Index(['sl_no', 'ssc_p', 'hsc_p', 'degree_p', 'etest_p', 'mba_p'], dtype='object')"
            ]
          },
          "metadata": {},
          "execution_count": 18
        }
      ]
    },
    {
      "cell_type": "code",
      "metadata": {
        "colab": {
          "base_uri": "https://localhost:8080/"
        },
        "id": "oWuUQklJXdcp",
        "outputId": "7152220a-b7d2-469e-84c1-461ae966ff75"
      },
      "source": [
        "cat_dat.columns"
      ],
      "execution_count": 19,
      "outputs": [
        {
          "output_type": "execute_result",
          "data": {
            "text/plain": [
              "Index(['gender', 'ssc_b', 'hsc_b', 'hsc_s', 'degree_t', 'workex',\n",
              "       'specialisation', 'status', 'salary'],\n",
              "      dtype='object')"
            ]
          },
          "metadata": {},
          "execution_count": 19
        }
      ]
    },
    {
      "cell_type": "code",
      "metadata": {
        "colab": {
          "base_uri": "https://localhost:8080/",
          "height": 235
        },
        "id": "8fRjK71CXjDD",
        "outputId": "57942190-4e60-4964-a4b0-f12ac8250c0c"
      },
      "source": [
        "num_dat.head().T"
      ],
      "execution_count": 20,
      "outputs": [
        {
          "output_type": "execute_result",
          "data": {
            "text/html": [
              "<div>\n",
              "<style scoped>\n",
              "    .dataframe tbody tr th:only-of-type {\n",
              "        vertical-align: middle;\n",
              "    }\n",
              "\n",
              "    .dataframe tbody tr th {\n",
              "        vertical-align: top;\n",
              "    }\n",
              "\n",
              "    .dataframe thead th {\n",
              "        text-align: right;\n",
              "    }\n",
              "</style>\n",
              "<table border=\"1\" class=\"dataframe\">\n",
              "  <thead>\n",
              "    <tr style=\"text-align: right;\">\n",
              "      <th></th>\n",
              "      <th>0</th>\n",
              "      <th>1</th>\n",
              "      <th>2</th>\n",
              "      <th>3</th>\n",
              "      <th>4</th>\n",
              "    </tr>\n",
              "  </thead>\n",
              "  <tbody>\n",
              "    <tr>\n",
              "      <th>sl_no</th>\n",
              "      <td>1.0</td>\n",
              "      <td>2.00</td>\n",
              "      <td>3.0</td>\n",
              "      <td>4.00</td>\n",
              "      <td>5.0</td>\n",
              "    </tr>\n",
              "    <tr>\n",
              "      <th>ssc_p</th>\n",
              "      <td>67.0</td>\n",
              "      <td>79.33</td>\n",
              "      <td>65.0</td>\n",
              "      <td>56.00</td>\n",
              "      <td>85.8</td>\n",
              "    </tr>\n",
              "    <tr>\n",
              "      <th>hsc_p</th>\n",
              "      <td>91.0</td>\n",
              "      <td>78.33</td>\n",
              "      <td>68.0</td>\n",
              "      <td>52.00</td>\n",
              "      <td>73.6</td>\n",
              "    </tr>\n",
              "    <tr>\n",
              "      <th>degree_p</th>\n",
              "      <td>58.0</td>\n",
              "      <td>77.48</td>\n",
              "      <td>64.0</td>\n",
              "      <td>52.00</td>\n",
              "      <td>73.3</td>\n",
              "    </tr>\n",
              "    <tr>\n",
              "      <th>etest_p</th>\n",
              "      <td>55.0</td>\n",
              "      <td>86.50</td>\n",
              "      <td>75.0</td>\n",
              "      <td>66.00</td>\n",
              "      <td>96.8</td>\n",
              "    </tr>\n",
              "    <tr>\n",
              "      <th>mba_p</th>\n",
              "      <td>58.8</td>\n",
              "      <td>66.28</td>\n",
              "      <td>57.8</td>\n",
              "      <td>59.43</td>\n",
              "      <td>55.5</td>\n",
              "    </tr>\n",
              "  </tbody>\n",
              "</table>\n",
              "</div>"
            ],
            "text/plain": [
              "             0      1     2      3     4\n",
              "sl_no      1.0   2.00   3.0   4.00   5.0\n",
              "ssc_p     67.0  79.33  65.0  56.00  85.8\n",
              "hsc_p     91.0  78.33  68.0  52.00  73.6\n",
              "degree_p  58.0  77.48  64.0  52.00  73.3\n",
              "etest_p   55.0  86.50  75.0  66.00  96.8\n",
              "mba_p     58.8  66.28  57.8  59.43  55.5"
            ]
          },
          "metadata": {},
          "execution_count": 20
        }
      ]
    },
    {
      "cell_type": "code",
      "metadata": {
        "colab": {
          "base_uri": "https://localhost:8080/",
          "height": 328
        },
        "id": "Q778_a6rXv-q",
        "outputId": "a3d7950d-dd08-4a90-84a9-77f7983c5695"
      },
      "source": [
        "cat_dat.head().T"
      ],
      "execution_count": 21,
      "outputs": [
        {
          "output_type": "execute_result",
          "data": {
            "text/html": [
              "<div>\n",
              "<style scoped>\n",
              "    .dataframe tbody tr th:only-of-type {\n",
              "        vertical-align: middle;\n",
              "    }\n",
              "\n",
              "    .dataframe tbody tr th {\n",
              "        vertical-align: top;\n",
              "    }\n",
              "\n",
              "    .dataframe thead th {\n",
              "        text-align: right;\n",
              "    }\n",
              "</style>\n",
              "<table border=\"1\" class=\"dataframe\">\n",
              "  <thead>\n",
              "    <tr style=\"text-align: right;\">\n",
              "      <th></th>\n",
              "      <th>0</th>\n",
              "      <th>1</th>\n",
              "      <th>2</th>\n",
              "      <th>3</th>\n",
              "      <th>4</th>\n",
              "    </tr>\n",
              "  </thead>\n",
              "  <tbody>\n",
              "    <tr>\n",
              "      <th>gender</th>\n",
              "      <td>M</td>\n",
              "      <td>M</td>\n",
              "      <td>M</td>\n",
              "      <td>M</td>\n",
              "      <td>M</td>\n",
              "    </tr>\n",
              "    <tr>\n",
              "      <th>ssc_b</th>\n",
              "      <td>Others</td>\n",
              "      <td>Central</td>\n",
              "      <td>Central</td>\n",
              "      <td>Central</td>\n",
              "      <td>Central</td>\n",
              "    </tr>\n",
              "    <tr>\n",
              "      <th>hsc_b</th>\n",
              "      <td>Others</td>\n",
              "      <td>Others</td>\n",
              "      <td>Central</td>\n",
              "      <td>Central</td>\n",
              "      <td>Central</td>\n",
              "    </tr>\n",
              "    <tr>\n",
              "      <th>hsc_s</th>\n",
              "      <td>Commerce</td>\n",
              "      <td>Science</td>\n",
              "      <td>Arts</td>\n",
              "      <td>Science</td>\n",
              "      <td>Commerce</td>\n",
              "    </tr>\n",
              "    <tr>\n",
              "      <th>degree_t</th>\n",
              "      <td>Sci&amp;Tech</td>\n",
              "      <td>Sci&amp;Tech</td>\n",
              "      <td>Comm&amp;Mgmt</td>\n",
              "      <td>Sci&amp;Tech</td>\n",
              "      <td>Comm&amp;Mgmt</td>\n",
              "    </tr>\n",
              "    <tr>\n",
              "      <th>workex</th>\n",
              "      <td>No</td>\n",
              "      <td>Yes</td>\n",
              "      <td>No</td>\n",
              "      <td>No</td>\n",
              "      <td>No</td>\n",
              "    </tr>\n",
              "    <tr>\n",
              "      <th>specialisation</th>\n",
              "      <td>Mkt&amp;HR</td>\n",
              "      <td>Mkt&amp;Fin</td>\n",
              "      <td>Mkt&amp;Fin</td>\n",
              "      <td>Mkt&amp;HR</td>\n",
              "      <td>Mkt&amp;Fin</td>\n",
              "    </tr>\n",
              "    <tr>\n",
              "      <th>status</th>\n",
              "      <td>Placed</td>\n",
              "      <td>Placed</td>\n",
              "      <td>Placed</td>\n",
              "      <td>Not Placed</td>\n",
              "      <td>Placed</td>\n",
              "    </tr>\n",
              "    <tr>\n",
              "      <th>salary</th>\n",
              "      <td>270000</td>\n",
              "      <td>200000</td>\n",
              "      <td>250000</td>\n",
              "      <td>288655.0</td>\n",
              "      <td>425000</td>\n",
              "    </tr>\n",
              "  </tbody>\n",
              "</table>\n",
              "</div>"
            ],
            "text/plain": [
              "                       0         1          2           3          4\n",
              "gender                 M         M          M           M          M\n",
              "ssc_b             Others   Central    Central     Central    Central\n",
              "hsc_b             Others    Others    Central     Central    Central\n",
              "hsc_s           Commerce   Science       Arts     Science   Commerce\n",
              "degree_t        Sci&Tech  Sci&Tech  Comm&Mgmt    Sci&Tech  Comm&Mgmt\n",
              "workex                No       Yes         No          No         No\n",
              "specialisation    Mkt&HR   Mkt&Fin    Mkt&Fin      Mkt&HR    Mkt&Fin\n",
              "status            Placed    Placed     Placed  Not Placed     Placed\n",
              "salary            270000    200000     250000    288655.0     425000"
            ]
          },
          "metadata": {},
          "execution_count": 21
        }
      ]
    },
    {
      "cell_type": "code",
      "metadata": {
        "colab": {
          "base_uri": "https://localhost:8080/"
        },
        "id": "jbqGTUIDegtG",
        "outputId": "cb20f3e7-7950-4981-9055-853f6f744607"
      },
      "source": [
        "df['hsc_s'].value_counts()"
      ],
      "execution_count": 22,
      "outputs": [
        {
          "output_type": "execute_result",
          "data": {
            "text/plain": [
              "Commerce    113\n",
              "Science      91\n",
              "Arts         11\n",
              "Name: hsc_s, dtype: int64"
            ]
          },
          "metadata": {},
          "execution_count": 22
        }
      ]
    },
    {
      "cell_type": "code",
      "metadata": {
        "colab": {
          "base_uri": "https://localhost:8080/",
          "height": 706
        },
        "id": "OHRaCdaMX3ro",
        "outputId": "d2aa1ac0-0ebc-4a12-bc1e-19a5f6b58bf3"
      },
      "source": [
        "fig,axes=plt.subplots(nrows=2,ncols=3,figsize=(20,15))\n",
        "i=0\n",
        "j=0\n",
        "for col in num_dat.columns:\n",
        "    sns.kdeplot(data=num_dat, x=col, fill=True,ax=axes[i][j],label='Num Unique Value:{}'.format(len(num_dat[col].unique())))\n",
        "    axes[i][j].legend()\n",
        "    j+=1\n",
        "    if j>2:\n",
        "        i+=1\n",
        "        j=0"
      ],
      "execution_count": 23,
      "outputs": [
        {
          "output_type": "display_data",
          "data": {
            "image/png": "[encoded data removed]",
            "text/plain": [
              "<Figure size 1440x1080 with 6 Axes>"
            ]
          },
          "metadata": {
            "needs_background": "light"
          }
        }
      ]
    },
    {
      "cell_type": "code",
      "metadata": {
        "colab": {
          "base_uri": "https://localhost:8080/",
          "height": 710
        },
        "id": "vAF2kZmkYOqM",
        "outputId": "1c35a142-e92b-4795-c116-304b0a0db183"
      },
      "source": [
        "fig,axes=plt.subplots(nrows=2,ncols=3,figsize=(20,15))\n",
        "i=0\n",
        "j=0\n",
        "for col in num_dat.columns:\n",
        "    sns.scatterplot(data=df, x='degree_p',y=col, hue='status',ax=axes[i][j])\n",
        "    #axes[i][j].legend()\n",
        "    j+=1\n",
        "    if j>2:\n",
        "        i+=1\n",
        "        j=0"
      ],
      "execution_count": 24,
      "outputs": [
        {
          "output_type": "display_data",
          "data": {
            "image/png": "[encoded data removed]",
            "text/plain": [
              "<Figure size 1440x1080 with 6 Axes>"
            ]
          },
          "metadata": {
            "needs_background": "light"
          }
        }
      ]
    },
    {
      "cell_type": "markdown",
      "metadata": {
        "id": "89QeD_SSO7ee"
      },
      "source": [
        "# **EDA ANALYSIS**"
      ]
    },
    {
      "cell_type": "markdown",
      "metadata": {
        "id": "fYwB_YWVO-cZ"
      },
      "source": [
        "*   Pada dataset yang kolomnya memiliki nilai numerical dilihat dari grafik persebaran datanya tersebar mengarah ke suatu target yang artinya data dengan tipe numerical pada dataset tersebut memiliki kecenderungan untuk memprediksi ke salah satu target sehingga memiliki relasi yang baik antara fitur data dengan target data. Dengan persebaran data seperti ini maka kolom yang bertipe numerikal digunakan untuk permodelan klasifikasi. \n",
        "\n",
        "\n",
        "\n",
        "*   Untuk dataset yang kolom nya memiliki nilai kategorikal untuk fitur workex akan di drop karena memiliki value yang sama seperti target real nya agar tidak terjadi bias karena memiliki 2 kategori sama seperti target yang memiliki 2 kategori juga\n",
        "\n",
        "\n"
      ]
    },
    {
      "cell_type": "markdown",
      "metadata": {
        "id": "iUl0oh_LY_PU"
      },
      "source": [
        "# **TARGET DATA**"
      ]
    },
    {
      "cell_type": "code",
      "metadata": {
        "colab": {
          "base_uri": "https://localhost:8080/"
        },
        "id": "Tcr_tkIoZbZw",
        "outputId": "d89b3149-afef-4909-8d8f-4c35d7566fa9"
      },
      "source": [
        "df['status'].value_counts()"
      ],
      "execution_count": 25,
      "outputs": [
        {
          "output_type": "execute_result",
          "data": {
            "text/plain": [
              "Placed        148\n",
              "Not Placed     67\n",
              "Name: status, dtype: int64"
            ]
          },
          "metadata": {},
          "execution_count": 25
        }
      ]
    },
    {
      "cell_type": "code",
      "metadata": {
        "colab": {
          "base_uri": "https://localhost:8080/",
          "height": 179
        },
        "id": "PeN5qFGzYIzv",
        "outputId": "b633a85b-1da8-4a52-aebb-9d1bc6befae4"
      },
      "source": [
        "df.groupby([\"status\"]).count()"
      ],
      "execution_count": 26,
      "outputs": [
        {
          "output_type": "execute_result",
          "data": {
            "text/html": [
              "<div>\n",
              "<style scoped>\n",
              "    .dataframe tbody tr th:only-of-type {\n",
              "        vertical-align: middle;\n",
              "    }\n",
              "\n",
              "    .dataframe tbody tr th {\n",
              "        vertical-align: top;\n",
              "    }\n",
              "\n",
              "    .dataframe thead th {\n",
              "        text-align: right;\n",
              "    }\n",
              "</style>\n",
              "<table border=\"1\" class=\"dataframe\">\n",
              "  <thead>\n",
              "    <tr style=\"text-align: right;\">\n",
              "      <th></th>\n",
              "      <th>sl_no</th>\n",
              "      <th>gender</th>\n",
              "      <th>ssc_p</th>\n",
              "      <th>ssc_b</th>\n",
              "      <th>hsc_p</th>\n",
              "      <th>hsc_b</th>\n",
              "      <th>hsc_s</th>\n",
              "      <th>degree_p</th>\n",
              "      <th>degree_t</th>\n",
              "      <th>workex</th>\n",
              "      <th>etest_p</th>\n",
              "      <th>specialisation</th>\n",
              "      <th>mba_p</th>\n",
              "      <th>salary</th>\n",
              "    </tr>\n",
              "    <tr>\n",
              "      <th>status</th>\n",
              "      <th></th>\n",
              "      <th></th>\n",
              "      <th></th>\n",
              "      <th></th>\n",
              "      <th></th>\n",
              "      <th></th>\n",
              "      <th></th>\n",
              "      <th></th>\n",
              "      <th></th>\n",
              "      <th></th>\n",
              "      <th></th>\n",
              "      <th></th>\n",
              "      <th></th>\n",
              "      <th></th>\n",
              "    </tr>\n",
              "  </thead>\n",
              "  <tbody>\n",
              "    <tr>\n",
              "      <th>Not Placed</th>\n",
              "      <td>67</td>\n",
              "      <td>67</td>\n",
              "      <td>67</td>\n",
              "      <td>67</td>\n",
              "      <td>67</td>\n",
              "      <td>67</td>\n",
              "      <td>67</td>\n",
              "      <td>67</td>\n",
              "      <td>67</td>\n",
              "      <td>67</td>\n",
              "      <td>67</td>\n",
              "      <td>67</td>\n",
              "      <td>67</td>\n",
              "      <td>67</td>\n",
              "    </tr>\n",
              "    <tr>\n",
              "      <th>Placed</th>\n",
              "      <td>148</td>\n",
              "      <td>148</td>\n",
              "      <td>148</td>\n",
              "      <td>148</td>\n",
              "      <td>148</td>\n",
              "      <td>148</td>\n",
              "      <td>148</td>\n",
              "      <td>148</td>\n",
              "      <td>148</td>\n",
              "      <td>148</td>\n",
              "      <td>148</td>\n",
              "      <td>148</td>\n",
              "      <td>148</td>\n",
              "      <td>148</td>\n",
              "    </tr>\n",
              "  </tbody>\n",
              "</table>\n",
              "</div>"
            ],
            "text/plain": [
              "            sl_no  gender  ssc_p  ssc_b  ...  etest_p  specialisation  mba_p  salary\n",
              "status                                   ...                                        \n",
              "Not Placed     67      67     67     67  ...       67              67     67      67\n",
              "Placed        148     148    148    148  ...      148             148    148     148\n",
              "\n",
              "[2 rows x 14 columns]"
            ]
          },
          "metadata": {},
          "execution_count": 26
        }
      ]
    },
    {
      "cell_type": "code",
      "metadata": {
        "colab": {
          "base_uri": "https://localhost:8080/",
          "height": 369
        },
        "id": "acKS5vkJZH_f",
        "outputId": "351599b1-b163-498b-81b9-af977546cdad"
      },
      "source": [
        "plt.figure(figsize = (10, 5))\n",
        "sns.countplot(\n",
        "    x = df[\"status\"],\n",
        ")\n",
        "plt.title(\"Distribusi Status\")\n",
        "plt.tight_layout()\n",
        "plt.show()"
      ],
      "execution_count": 27,
      "outputs": [
        {
          "output_type": "display_data",
          "data": {
            "image/png": "[encoded data removed]",
            "text/plain": [
              "<Figure size 720x360 with 1 Axes>"
            ]
          },
          "metadata": {
            "needs_background": "light"
          }
        }
      ]
    },
    {
      "cell_type": "markdown",
      "metadata": {
        "id": "BFbRhkQEZTwo"
      },
      "source": [
        "# **FEATURE ENGINEERING**"
      ]
    },
    {
      "cell_type": "code",
      "metadata": {
        "id": "kLqwuMf9ZWKn"
      },
      "source": [
        "new_df = df.copy()"
      ],
      "execution_count": 28,
      "outputs": []
    },
    {
      "cell_type": "code",
      "metadata": {
        "id": "crga8Ou8ZhKp"
      },
      "source": [
        "#melakukan encoding terhadap fitur kategori\n",
        "encode = LabelEncoder()\n",
        "new_df['gender'] = encode.fit_transform(new_df['gender'])\n",
        "new_df['ssc_b'] = encode.fit_transform(new_df['ssc_b'])\n",
        "new_df['hsc_b'] = encode.fit_transform(new_df['hsc_b'])\n",
        "new_df['hsc_s'] = encode.fit_transform(new_df['hsc_s'])\n",
        "new_df['degree_t'] = encode.fit_transform(new_df['degree_t'])\n",
        "new_df['workex'] = encode.fit_transform(new_df['workex'])\n",
        "new_df['specialisation'] = encode.fit_transform(new_df['specialisation'])\n",
        "new_df['status'] = encode.fit_transform(new_df['status'])"
      ],
      "execution_count": 29,
      "outputs": []
    },
    {
      "cell_type": "code",
      "metadata": {
        "colab": {
          "base_uri": "https://localhost:8080/",
          "height": 439
        },
        "id": "D5Evio-yZvuC",
        "outputId": "4389ebb2-cb10-4ac8-f70c-8a8628125bbe"
      },
      "source": [
        "new_df"
      ],
      "execution_count": 30,
      "outputs": [
        {
          "output_type": "execute_result",
          "data": {
            "text/html": [
              "<div>\n",
              "<style scoped>\n",
              "    .dataframe tbody tr th:only-of-type {\n",
              "        vertical-align: middle;\n",
              "    }\n",
              "\n",
              "    .dataframe tbody tr th {\n",
              "        vertical-align: top;\n",
              "    }\n",
              "\n",
              "    .dataframe thead th {\n",
              "        text-align: right;\n",
              "    }\n",
              "</style>\n",
              "<table border=\"1\" class=\"dataframe\">\n",
              "  <thead>\n",
              "    <tr style=\"text-align: right;\">\n",
              "      <th></th>\n",
              "      <th>sl_no</th>\n",
              "      <th>gender</th>\n",
              "      <th>ssc_p</th>\n",
              "      <th>ssc_b</th>\n",
              "      <th>hsc_p</th>\n",
              "      <th>hsc_b</th>\n",
              "      <th>hsc_s</th>\n",
              "      <th>degree_p</th>\n",
              "      <th>degree_t</th>\n",
              "      <th>workex</th>\n",
              "      <th>etest_p</th>\n",
              "      <th>specialisation</th>\n",
              "      <th>mba_p</th>\n",
              "      <th>status</th>\n",
              "      <th>salary</th>\n",
              "    </tr>\n",
              "  </thead>\n",
              "  <tbody>\n",
              "    <tr>\n",
              "      <th>0</th>\n",
              "      <td>1</td>\n",
              "      <td>1</td>\n",
              "      <td>67.00</td>\n",
              "      <td>1</td>\n",
              "      <td>91.00</td>\n",
              "      <td>1</td>\n",
              "      <td>1</td>\n",
              "      <td>58.00</td>\n",
              "      <td>2</td>\n",
              "      <td>0</td>\n",
              "      <td>55.0</td>\n",
              "      <td>1</td>\n",
              "      <td>58.80</td>\n",
              "      <td>1</td>\n",
              "      <td>270000</td>\n",
              "    </tr>\n",
              "    <tr>\n",
              "      <th>1</th>\n",
              "      <td>2</td>\n",
              "      <td>1</td>\n",
              "      <td>79.33</td>\n",
              "      <td>0</td>\n",
              "      <td>78.33</td>\n",
              "      <td>1</td>\n",
              "      <td>2</td>\n",
              "      <td>77.48</td>\n",
              "      <td>2</td>\n",
              "      <td>1</td>\n",
              "      <td>86.5</td>\n",
              "      <td>0</td>\n",
              "      <td>66.28</td>\n",
              "      <td>1</td>\n",
              "      <td>200000</td>\n",
              "    </tr>\n",
              "    <tr>\n",
              "      <th>2</th>\n",
              "      <td>3</td>\n",
              "      <td>1</td>\n",
              "      <td>65.00</td>\n",
              "      <td>0</td>\n",
              "      <td>68.00</td>\n",
              "      <td>0</td>\n",
              "      <td>0</td>\n",
              "      <td>64.00</td>\n",
              "      <td>0</td>\n",
              "      <td>0</td>\n",
              "      <td>75.0</td>\n",
              "      <td>0</td>\n",
              "      <td>57.80</td>\n",
              "      <td>1</td>\n",
              "      <td>250000</td>\n",
              "    </tr>\n",
              "    <tr>\n",
              "      <th>3</th>\n",
              "      <td>4</td>\n",
              "      <td>1</td>\n",
              "      <td>56.00</td>\n",
              "      <td>0</td>\n",
              "      <td>52.00</td>\n",
              "      <td>0</td>\n",
              "      <td>2</td>\n",
              "      <td>52.00</td>\n",
              "      <td>2</td>\n",
              "      <td>0</td>\n",
              "      <td>66.0</td>\n",
              "      <td>1</td>\n",
              "      <td>59.43</td>\n",
              "      <td>0</td>\n",
              "      <td>288655.0</td>\n",
              "    </tr>\n",
              "    <tr>\n",
              "      <th>4</th>\n",
              "      <td>5</td>\n",
              "      <td>1</td>\n",
              "      <td>85.80</td>\n",
              "      <td>0</td>\n",
              "      <td>73.60</td>\n",
              "      <td>0</td>\n",
              "      <td>1</td>\n",
              "      <td>73.30</td>\n",
              "      <td>0</td>\n",
              "      <td>0</td>\n",
              "      <td>96.8</td>\n",
              "      <td>0</td>\n",
              "      <td>55.50</td>\n",
              "      <td>1</td>\n",
              "      <td>425000</td>\n",
              "    </tr>\n",
              "    <tr>\n",
              "      <th>...</th>\n",
              "      <td>...</td>\n",
              "      <td>...</td>\n",
              "      <td>...</td>\n",
              "      <td>...</td>\n",
              "      <td>...</td>\n",
              "      <td>...</td>\n",
              "      <td>...</td>\n",
              "      <td>...</td>\n",
              "      <td>...</td>\n",
              "      <td>...</td>\n",
              "      <td>...</td>\n",
              "      <td>...</td>\n",
              "      <td>...</td>\n",
              "      <td>...</td>\n",
              "      <td>...</td>\n",
              "    </tr>\n",
              "    <tr>\n",
              "      <th>210</th>\n",
              "      <td>211</td>\n",
              "      <td>1</td>\n",
              "      <td>80.60</td>\n",
              "      <td>1</td>\n",
              "      <td>82.00</td>\n",
              "      <td>1</td>\n",
              "      <td>1</td>\n",
              "      <td>77.60</td>\n",
              "      <td>0</td>\n",
              "      <td>0</td>\n",
              "      <td>91.0</td>\n",
              "      <td>0</td>\n",
              "      <td>74.49</td>\n",
              "      <td>1</td>\n",
              "      <td>400000</td>\n",
              "    </tr>\n",
              "    <tr>\n",
              "      <th>211</th>\n",
              "      <td>212</td>\n",
              "      <td>1</td>\n",
              "      <td>58.00</td>\n",
              "      <td>1</td>\n",
              "      <td>60.00</td>\n",
              "      <td>1</td>\n",
              "      <td>2</td>\n",
              "      <td>72.00</td>\n",
              "      <td>2</td>\n",
              "      <td>0</td>\n",
              "      <td>74.0</td>\n",
              "      <td>0</td>\n",
              "      <td>53.62</td>\n",
              "      <td>1</td>\n",
              "      <td>275000</td>\n",
              "    </tr>\n",
              "    <tr>\n",
              "      <th>212</th>\n",
              "      <td>213</td>\n",
              "      <td>1</td>\n",
              "      <td>67.00</td>\n",
              "      <td>1</td>\n",
              "      <td>67.00</td>\n",
              "      <td>1</td>\n",
              "      <td>1</td>\n",
              "      <td>73.00</td>\n",
              "      <td>0</td>\n",
              "      <td>1</td>\n",
              "      <td>59.0</td>\n",
              "      <td>0</td>\n",
              "      <td>69.72</td>\n",
              "      <td>1</td>\n",
              "      <td>295000</td>\n",
              "    </tr>\n",
              "    <tr>\n",
              "      <th>213</th>\n",
              "      <td>214</td>\n",
              "      <td>0</td>\n",
              "      <td>74.00</td>\n",
              "      <td>1</td>\n",
              "      <td>66.00</td>\n",
              "      <td>1</td>\n",
              "      <td>1</td>\n",
              "      <td>58.00</td>\n",
              "      <td>0</td>\n",
              "      <td>0</td>\n",
              "      <td>70.0</td>\n",
              "      <td>1</td>\n",
              "      <td>60.23</td>\n",
              "      <td>1</td>\n",
              "      <td>204000</td>\n",
              "    </tr>\n",
              "    <tr>\n",
              "      <th>214</th>\n",
              "      <td>215</td>\n",
              "      <td>1</td>\n",
              "      <td>62.00</td>\n",
              "      <td>0</td>\n",
              "      <td>58.00</td>\n",
              "      <td>1</td>\n",
              "      <td>2</td>\n",
              "      <td>53.00</td>\n",
              "      <td>0</td>\n",
              "      <td>0</td>\n",
              "      <td>89.0</td>\n",
              "      <td>1</td>\n",
              "      <td>60.22</td>\n",
              "      <td>0</td>\n",
              "      <td>288655.0</td>\n",
              "    </tr>\n",
              "  </tbody>\n",
              "</table>\n",
              "<p>215 rows × 15 columns</p>\n",
              "</div>"
            ],
            "text/plain": [
              "     sl_no  gender  ssc_p  ssc_b  ...  specialisation  mba_p  status    salary\n",
              "0        1       1  67.00      1  ...               1  58.80       1    270000\n",
              "1        2       1  79.33      0  ...               0  66.28       1    200000\n",
              "2        3       1  65.00      0  ...               0  57.80       1    250000\n",
              "3        4       1  56.00      0  ...               1  59.43       0  288655.0\n",
              "4        5       1  85.80      0  ...               0  55.50       1    425000\n",
              "..     ...     ...    ...    ...  ...             ...    ...     ...       ...\n",
              "210    211       1  80.60      1  ...               0  74.49       1    400000\n",
              "211    212       1  58.00      1  ...               0  53.62       1    275000\n",
              "212    213       1  67.00      1  ...               0  69.72       1    295000\n",
              "213    214       0  74.00      1  ...               1  60.23       1    204000\n",
              "214    215       1  62.00      0  ...               1  60.22       0  288655.0\n",
              "\n",
              "[215 rows x 15 columns]"
            ]
          },
          "metadata": {},
          "execution_count": 30
        }
      ]
    },
    {
      "cell_type": "code",
      "metadata": {
        "colab": {
          "base_uri": "https://localhost:8080/",
          "height": 1000
        },
        "id": "EAAGvsWtak1-",
        "outputId": "2958be82-82fd-4cac-c45d-9ffe37c3e378"
      },
      "source": [
        "plt.figure(figsize=(20,20))\n",
        "sns.heatmap(new_df.corr(),vmin=-1, vmax=1, cmap=sns.diverging_palette(20, 220, as_cmap=True), annot=True, linewidths=.5)"
      ],
      "execution_count": 31,
      "outputs": [
        {
          "output_type": "execute_result",
          "data": {
            "text/plain": [
              "<matplotlib.axes._subplots.AxesSubplot at 0x7fa3d4520a10>"
            ]
          },
          "metadata": {},
          "execution_count": 31
        },
        {
          "output_type": "display_data",
          "data": {
            "image/png": "[encoded data removed]",
            "text/plain": [
              "<Figure size 1440x1440 with 2 Axes>"
            ]
          },
          "metadata": {
            "needs_background": "light"
          }
        }
      ]
    },
    {
      "cell_type": "code",
      "metadata": {
        "id": "nRPPUoS1cDTx"
      },
      "source": [
        "df1 = new_df.drop(columns=[\"workex\"])"
      ],
      "execution_count": 32,
      "outputs": []
    },
    {
      "cell_type": "markdown",
      "metadata": {
        "id": "uGkD98IheKpY"
      },
      "source": [
        "**One-Hot-Encoding (Dummy variables)**"
      ]
    },
    {
      "cell_type": "code",
      "metadata": {
        "colab": {
          "base_uri": "https://localhost:8080/"
        },
        "id": "LGykS7gQh2dn",
        "outputId": "3a44dd98-e71f-4bb1-d47e-edd186a68833"
      },
      "source": [
        "print(\"Original features:\\n\", list(df1.columns), \"\\n\")\n",
        "data_dummies = pd.get_dummies(df1)\n",
        "print(\"Features after get_dummies:\\n\", list(data_dummies.columns))"
      ],
      "execution_count": 33,
      "outputs": [
        {
          "output_type": "stream",
          "text": [
            "Original features:\n",
            " ['sl_no', 'gender', 'ssc_p', 'ssc_b', 'hsc_p', 'hsc_b', 'hsc_s', 'degree_p', 'degree_t', 'etest_p', 'specialisation', 'mba_p', 'status', 'salary'] \n",
            "\n",
            "Features after get_dummies:\n",
            " ['sl_no', 'gender', 'ssc_p', 'ssc_b', 'hsc_p', 'hsc_b', 'hsc_s', 'degree_p', 'degree_t', 'etest_p', 'specialisation', 'mba_p', 'status', 'salary_200000.0', 'salary_204000.0', 'salary_210000.0', 'salary_216000.0', 'salary_218000.0', 'salary_220000.0', 'salary_225000.0', 'salary_230000.0', 'salary_231000.0', 'salary_233000.0', 'salary_236000.0', 'salary_240000.0', 'salary_250000.0', 'salary_252000.0', 'salary_255000.0', 'salary_260000.0', 'salary_264000.0', 'salary_265000.0', 'salary_268000.0', 'salary_270000.0', 'salary_275000.0', 'salary_276000.0', 'salary_278000.0', 'salary_280000.0', 'salary_285000.0', 'salary_287000.0', 'salary_290000.0', 'salary_295000.0', 'salary_300000.0', 'salary_320000.0', 'salary_336000.0', 'salary_340000.0', 'salary_350000.0', 'salary_360000.0', 'salary_380000.0', 'salary_393000.0', 'salary_400000.0', 'salary_411000.0', 'salary_420000.0', 'salary_425000.0', 'salary_450000.0', 'salary_500000.0', 'salary_650000.0', 'salary_690000.0', 'salary_940000.0', 'salary_288655.0']\n"
          ],
          "name": "stdout"
        }
      ]
    },
    {
      "cell_type": "code",
      "metadata": {
        "colab": {
          "base_uri": "https://localhost:8080/",
          "height": 224
        },
        "id": "PkbPTBmFdCCD",
        "outputId": "6cb62e28-d370-4845-e556-39317383bc6c"
      },
      "source": [
        "display(data_dummies.head())"
      ],
      "execution_count": 34,
      "outputs": [
        {
          "output_type": "display_data",
          "data": {
            "text/html": [
              "<div>\n",
              "<style scoped>\n",
              "    .dataframe tbody tr th:only-of-type {\n",
              "        vertical-align: middle;\n",
              "    }\n",
              "\n",
              "    .dataframe tbody tr th {\n",
              "        vertical-align: top;\n",
              "    }\n",
              "\n",
              "    .dataframe thead th {\n",
              "        text-align: right;\n",
              "    }\n",
              "</style>\n",
              "<table border=\"1\" class=\"dataframe\">\n",
              "  <thead>\n",
              "    <tr style=\"text-align: right;\">\n",
              "      <th></th>\n",
              "      <th>sl_no</th>\n",
              "      <th>gender</th>\n",
              "      <th>ssc_p</th>\n",
              "      <th>ssc_b</th>\n",
              "      <th>hsc_p</th>\n",
              "      <th>hsc_b</th>\n",
              "      <th>hsc_s</th>\n",
              "      <th>degree_p</th>\n",
              "      <th>degree_t</th>\n",
              "      <th>etest_p</th>\n",
              "      <th>specialisation</th>\n",
              "      <th>mba_p</th>\n",
              "      <th>status</th>\n",
              "      <th>salary_200000.0</th>\n",
              "      <th>salary_204000.0</th>\n",
              "      <th>salary_210000.0</th>\n",
              "      <th>salary_216000.0</th>\n",
              "      <th>salary_218000.0</th>\n",
              "      <th>salary_220000.0</th>\n",
              "      <th>salary_225000.0</th>\n",
              "      <th>salary_230000.0</th>\n",
              "      <th>salary_231000.0</th>\n",
              "      <th>salary_233000.0</th>\n",
              "      <th>salary_236000.0</th>\n",
              "      <th>salary_240000.0</th>\n",
              "      <th>salary_250000.0</th>\n",
              "      <th>salary_252000.0</th>\n",
              "      <th>salary_255000.0</th>\n",
              "      <th>salary_260000.0</th>\n",
              "      <th>salary_264000.0</th>\n",
              "      <th>salary_265000.0</th>\n",
              "      <th>salary_268000.0</th>\n",
              "      <th>salary_270000.0</th>\n",
              "      <th>salary_275000.0</th>\n",
              "      <th>salary_276000.0</th>\n",
              "      <th>salary_278000.0</th>\n",
              "      <th>salary_280000.0</th>\n",
              "      <th>salary_285000.0</th>\n",
              "      <th>salary_287000.0</th>\n",
              "      <th>salary_290000.0</th>\n",
              "      <th>salary_295000.0</th>\n",
              "      <th>salary_300000.0</th>\n",
              "      <th>salary_320000.0</th>\n",
              "      <th>salary_336000.0</th>\n",
              "      <th>salary_340000.0</th>\n",
              "      <th>salary_350000.0</th>\n",
              "      <th>salary_360000.0</th>\n",
              "      <th>salary_380000.0</th>\n",
              "      <th>salary_393000.0</th>\n",
              "      <th>salary_400000.0</th>\n",
              "      <th>salary_411000.0</th>\n",
              "      <th>salary_420000.0</th>\n",
              "      <th>salary_425000.0</th>\n",
              "      <th>salary_450000.0</th>\n",
              "      <th>salary_500000.0</th>\n",
              "      <th>salary_650000.0</th>\n",
              "      <th>salary_690000.0</th>\n",
              "      <th>salary_940000.0</th>\n",
              "      <th>salary_288655.0</th>\n",
              "    </tr>\n",
              "  </thead>\n",
              "  <tbody>\n",
              "    <tr>\n",
              "      <th>0</th>\n",
              "      <td>1</td>\n",
              "      <td>1</td>\n",
              "      <td>67.00</td>\n",
              "      <td>1</td>\n",
              "      <td>91.00</td>\n",
              "      <td>1</td>\n",
              "      <td>1</td>\n",
              "      <td>58.00</td>\n",
              "      <td>2</td>\n",
              "      <td>55.0</td>\n",
              "      <td>1</td>\n",
              "      <td>58.80</td>\n",
              "      <td>1</td>\n",
              "      <td>0</td>\n",
              "      <td>0</td>\n",
              "      <td>0</td>\n",
              "      <td>0</td>\n",
              "      <td>0</td>\n",
              "      <td>0</td>\n",
              "      <td>0</td>\n",
              "      <td>0</td>\n",
              "      <td>0</td>\n",
              "      <td>0</td>\n",
              "      <td>0</td>\n",
              "      <td>0</td>\n",
              "      <td>0</td>\n",
              "      <td>0</td>\n",
              "      <td>0</td>\n",
              "      <td>0</td>\n",
              "      <td>0</td>\n",
              "      <td>0</td>\n",
              "      <td>0</td>\n",
              "      <td>1</td>\n",
              "      <td>0</td>\n",
              "      <td>0</td>\n",
              "      <td>0</td>\n",
              "      <td>0</td>\n",
              "      <td>0</td>\n",
              "      <td>0</td>\n",
              "      <td>0</td>\n",
              "      <td>0</td>\n",
              "      <td>0</td>\n",
              "      <td>0</td>\n",
              "      <td>0</td>\n",
              "      <td>0</td>\n",
              "      <td>0</td>\n",
              "      <td>0</td>\n",
              "      <td>0</td>\n",
              "      <td>0</td>\n",
              "      <td>0</td>\n",
              "      <td>0</td>\n",
              "      <td>0</td>\n",
              "      <td>0</td>\n",
              "      <td>0</td>\n",
              "      <td>0</td>\n",
              "      <td>0</td>\n",
              "      <td>0</td>\n",
              "      <td>0</td>\n",
              "      <td>0</td>\n",
              "    </tr>\n",
              "    <tr>\n",
              "      <th>1</th>\n",
              "      <td>2</td>\n",
              "      <td>1</td>\n",
              "      <td>79.33</td>\n",
              "      <td>0</td>\n",
              "      <td>78.33</td>\n",
              "      <td>1</td>\n",
              "      <td>2</td>\n",
              "      <td>77.48</td>\n",
              "      <td>2</td>\n",
              "      <td>86.5</td>\n",
              "      <td>0</td>\n",
              "      <td>66.28</td>\n",
              "      <td>1</td>\n",
              "      <td>1</td>\n",
              "      <td>0</td>\n",
              "      <td>0</td>\n",
              "      <td>0</td>\n",
              "      <td>0</td>\n",
              "      <td>0</td>\n",
              "      <td>0</td>\n",
              "      <td>0</td>\n",
              "      <td>0</td>\n",
              "      <td>0</td>\n",
              "      <td>0</td>\n",
              "      <td>0</td>\n",
              "      <td>0</td>\n",
              "      <td>0</td>\n",
              "      <td>0</td>\n",
              "      <td>0</td>\n",
              "      <td>0</td>\n",
              "      <td>0</td>\n",
              "      <td>0</td>\n",
              "      <td>0</td>\n",
              "      <td>0</td>\n",
              "      <td>0</td>\n",
              "      <td>0</td>\n",
              "      <td>0</td>\n",
              "      <td>0</td>\n",
              "      <td>0</td>\n",
              "      <td>0</td>\n",
              "      <td>0</td>\n",
              "      <td>0</td>\n",
              "      <td>0</td>\n",
              "      <td>0</td>\n",
              "      <td>0</td>\n",
              "      <td>0</td>\n",
              "      <td>0</td>\n",
              "      <td>0</td>\n",
              "      <td>0</td>\n",
              "      <td>0</td>\n",
              "      <td>0</td>\n",
              "      <td>0</td>\n",
              "      <td>0</td>\n",
              "      <td>0</td>\n",
              "      <td>0</td>\n",
              "      <td>0</td>\n",
              "      <td>0</td>\n",
              "      <td>0</td>\n",
              "      <td>0</td>\n",
              "    </tr>\n",
              "    <tr>\n",
              "      <th>2</th>\n",
              "      <td>3</td>\n",
              "      <td>1</td>\n",
              "      <td>65.00</td>\n",
              "      <td>0</td>\n",
              "      <td>68.00</td>\n",
              "      <td>0</td>\n",
              "      <td>0</td>\n",
              "      <td>64.00</td>\n",
              "      <td>0</td>\n",
              "      <td>75.0</td>\n",
              "      <td>0</td>\n",
              "      <td>57.80</td>\n",
              "      <td>1</td>\n",
              "      <td>0</td>\n",
              "      <td>0</td>\n",
              "      <td>0</td>\n",
              "      <td>0</td>\n",
              "      <td>0</td>\n",
              "      <td>0</td>\n",
              "      <td>0</td>\n",
              "      <td>0</td>\n",
              "      <td>0</td>\n",
              "      <td>0</td>\n",
              "      <td>0</td>\n",
              "      <td>0</td>\n",
              "      <td>1</td>\n",
              "      <td>0</td>\n",
              "      <td>0</td>\n",
              "      <td>0</td>\n",
              "      <td>0</td>\n",
              "      <td>0</td>\n",
              "      <td>0</td>\n",
              "      <td>0</td>\n",
              "      <td>0</td>\n",
              "      <td>0</td>\n",
              "      <td>0</td>\n",
              "      <td>0</td>\n",
              "      <td>0</td>\n",
              "      <td>0</td>\n",
              "      <td>0</td>\n",
              "      <td>0</td>\n",
              "      <td>0</td>\n",
              "      <td>0</td>\n",
              "      <td>0</td>\n",
              "      <td>0</td>\n",
              "      <td>0</td>\n",
              "      <td>0</td>\n",
              "      <td>0</td>\n",
              "      <td>0</td>\n",
              "      <td>0</td>\n",
              "      <td>0</td>\n",
              "      <td>0</td>\n",
              "      <td>0</td>\n",
              "      <td>0</td>\n",
              "      <td>0</td>\n",
              "      <td>0</td>\n",
              "      <td>0</td>\n",
              "      <td>0</td>\n",
              "      <td>0</td>\n",
              "    </tr>\n",
              "    <tr>\n",
              "      <th>3</th>\n",
              "      <td>4</td>\n",
              "      <td>1</td>\n",
              "      <td>56.00</td>\n",
              "      <td>0</td>\n",
              "      <td>52.00</td>\n",
              "      <td>0</td>\n",
              "      <td>2</td>\n",
              "      <td>52.00</td>\n",
              "      <td>2</td>\n",
              "      <td>66.0</td>\n",
              "      <td>1</td>\n",
              "      <td>59.43</td>\n",
              "      <td>0</td>\n",
              "      <td>0</td>\n",
              "      <td>0</td>\n",
              "      <td>0</td>\n",
              "      <td>0</td>\n",
              "      <td>0</td>\n",
              "      <td>0</td>\n",
              "      <td>0</td>\n",
              "      <td>0</td>\n",
              "      <td>0</td>\n",
              "      <td>0</td>\n",
              "      <td>0</td>\n",
              "      <td>0</td>\n",
              "      <td>0</td>\n",
              "      <td>0</td>\n",
              "      <td>0</td>\n",
              "      <td>0</td>\n",
              "      <td>0</td>\n",
              "      <td>0</td>\n",
              "      <td>0</td>\n",
              "      <td>0</td>\n",
              "      <td>0</td>\n",
              "      <td>0</td>\n",
              "      <td>0</td>\n",
              "      <td>0</td>\n",
              "      <td>0</td>\n",
              "      <td>0</td>\n",
              "      <td>0</td>\n",
              "      <td>0</td>\n",
              "      <td>0</td>\n",
              "      <td>0</td>\n",
              "      <td>0</td>\n",
              "      <td>0</td>\n",
              "      <td>0</td>\n",
              "      <td>0</td>\n",
              "      <td>0</td>\n",
              "      <td>0</td>\n",
              "      <td>0</td>\n",
              "      <td>0</td>\n",
              "      <td>0</td>\n",
              "      <td>0</td>\n",
              "      <td>0</td>\n",
              "      <td>0</td>\n",
              "      <td>0</td>\n",
              "      <td>0</td>\n",
              "      <td>0</td>\n",
              "      <td>1</td>\n",
              "    </tr>\n",
              "    <tr>\n",
              "      <th>4</th>\n",
              "      <td>5</td>\n",
              "      <td>1</td>\n",
              "      <td>85.80</td>\n",
              "      <td>0</td>\n",
              "      <td>73.60</td>\n",
              "      <td>0</td>\n",
              "      <td>1</td>\n",
              "      <td>73.30</td>\n",
              "      <td>0</td>\n",
              "      <td>96.8</td>\n",
              "      <td>0</td>\n",
              "      <td>55.50</td>\n",
              "      <td>1</td>\n",
              "      <td>0</td>\n",
              "      <td>0</td>\n",
              "      <td>0</td>\n",
              "      <td>0</td>\n",
              "      <td>0</td>\n",
              "      <td>0</td>\n",
              "      <td>0</td>\n",
              "      <td>0</td>\n",
              "      <td>0</td>\n",
              "      <td>0</td>\n",
              "      <td>0</td>\n",
              "      <td>0</td>\n",
              "      <td>0</td>\n",
              "      <td>0</td>\n",
              "      <td>0</td>\n",
              "      <td>0</td>\n",
              "      <td>0</td>\n",
              "      <td>0</td>\n",
              "      <td>0</td>\n",
              "      <td>0</td>\n",
              "      <td>0</td>\n",
              "      <td>0</td>\n",
              "      <td>0</td>\n",
              "      <td>0</td>\n",
              "      <td>0</td>\n",
              "      <td>0</td>\n",
              "      <td>0</td>\n",
              "      <td>0</td>\n",
              "      <td>0</td>\n",
              "      <td>0</td>\n",
              "      <td>0</td>\n",
              "      <td>0</td>\n",
              "      <td>0</td>\n",
              "      <td>0</td>\n",
              "      <td>0</td>\n",
              "      <td>0</td>\n",
              "      <td>0</td>\n",
              "      <td>0</td>\n",
              "      <td>0</td>\n",
              "      <td>1</td>\n",
              "      <td>0</td>\n",
              "      <td>0</td>\n",
              "      <td>0</td>\n",
              "      <td>0</td>\n",
              "      <td>0</td>\n",
              "      <td>0</td>\n",
              "    </tr>\n",
              "  </tbody>\n",
              "</table>\n",
              "</div>"
            ],
            "text/plain": [
              "   sl_no  gender  ssc_p  ...  salary_690000.0  salary_940000.0  salary_288655.0\n",
              "0      1       1  67.00  ...                0                0                0\n",
              "1      2       1  79.33  ...                0                0                0\n",
              "2      3       1  65.00  ...                0                0                0\n",
              "3      4       1  56.00  ...                0                0                1\n",
              "4      5       1  85.80  ...                0                0                0\n",
              "\n",
              "[5 rows x 59 columns]"
            ]
          },
          "metadata": {}
        }
      ]
    },
    {
      "cell_type": "code",
      "metadata": {
        "colab": {
          "base_uri": "https://localhost:8080/"
        },
        "id": "AZD70OfSdIS9",
        "outputId": "45d73544-4eeb-4986-a00a-81f4e8d4168c"
      },
      "source": [
        "features = data_dummies.loc[:, 'sl_no':'status']\n",
        "# Extract NumPy arrays\n",
        "X = features.values\n",
        "y = data_dummies['salary_210000.0'].values\n",
        "print(\"X.shape: {}  y.shape: {}\".format(X.shape, y.shape))"
      ],
      "execution_count": 35,
      "outputs": [
        {
          "output_type": "stream",
          "text": [
            "X.shape: (215, 13)  y.shape: (215,)\n"
          ],
          "name": "stdout"
        }
      ]
    },
    {
      "cell_type": "code",
      "metadata": {
        "colab": {
          "base_uri": "https://localhost:8080/"
        },
        "id": "RN7ja3Spdbl4",
        "outputId": "ee458e39-0fc2-40ef-9f6f-653ce4d5890d"
      },
      "source": [
        "from sklearn.ensemble import RandomForestClassifier\n",
        "from sklearn.model_selection import train_test_split\n",
        "X_train, X_test, y_train, y_test = train_test_split(X, y, random_state=0)\n",
        "model = RandomForestClassifier()\n",
        "model.fit(X_train, y_train)\n",
        "print(\"Test score: {:.2f}\".format(model.score(X_test, y_test)))"
      ],
      "execution_count": 36,
      "outputs": [
        {
          "output_type": "stream",
          "text": [
            "Test score: 0.96\n"
          ],
          "name": "stdout"
        }
      ]
    },
    {
      "cell_type": "markdown",
      "metadata": {
        "id": "rhaDWE4FeOLW"
      },
      "source": [
        "**Numbers Encode Categoricals**"
      ]
    },
    {
      "cell_type": "code",
      "metadata": {
        "colab": {
          "base_uri": "https://localhost:8080/",
          "height": 142
        },
        "id": "9h8_ZlJoeTiT",
        "outputId": "4b46ddcf-68b8-4497-eb49-58332566510b"
      },
      "source": [
        "# create a DataFrame with an integer feature and a categorical string feature\n",
        "demo_df = pd.DataFrame({'Integer Feature': [0, 1, 2],\n",
        "                        'Categorical Feature': ['Commerce', 'Science', 'Arts ']})\n",
        "display(demo_df)"
      ],
      "execution_count": 37,
      "outputs": [
        {
          "output_type": "display_data",
          "data": {
            "text/html": [
              "<div>\n",
              "<style scoped>\n",
              "    .dataframe tbody tr th:only-of-type {\n",
              "        vertical-align: middle;\n",
              "    }\n",
              "\n",
              "    .dataframe tbody tr th {\n",
              "        vertical-align: top;\n",
              "    }\n",
              "\n",
              "    .dataframe thead th {\n",
              "        text-align: right;\n",
              "    }\n",
              "</style>\n",
              "<table border=\"1\" class=\"dataframe\">\n",
              "  <thead>\n",
              "    <tr style=\"text-align: right;\">\n",
              "      <th></th>\n",
              "      <th>Integer Feature</th>\n",
              "      <th>Categorical Feature</th>\n",
              "    </tr>\n",
              "  </thead>\n",
              "  <tbody>\n",
              "    <tr>\n",
              "      <th>0</th>\n",
              "      <td>0</td>\n",
              "      <td>Commerce</td>\n",
              "    </tr>\n",
              "    <tr>\n",
              "      <th>1</th>\n",
              "      <td>1</td>\n",
              "      <td>Science</td>\n",
              "    </tr>\n",
              "    <tr>\n",
              "      <th>2</th>\n",
              "      <td>2</td>\n",
              "      <td>Arts</td>\n",
              "    </tr>\n",
              "  </tbody>\n",
              "</table>\n",
              "</div>"
            ],
            "text/plain": [
              "   Integer Feature Categorical Feature\n",
              "0                0            Commerce\n",
              "1                1             Science\n",
              "2                2               Arts "
            ]
          },
          "metadata": {}
        }
      ]
    },
    {
      "cell_type": "code",
      "metadata": {
        "colab": {
          "base_uri": "https://localhost:8080/",
          "height": 142
        },
        "id": "mLrp-Bu-fZpD",
        "outputId": "a49dc65f-2255-42dc-ecb4-d815f8765490"
      },
      "source": [
        "display(pd.get_dummies(demo_df))"
      ],
      "execution_count": 38,
      "outputs": [
        {
          "output_type": "display_data",
          "data": {
            "text/html": [
              "<div>\n",
              "<style scoped>\n",
              "    .dataframe tbody tr th:only-of-type {\n",
              "        vertical-align: middle;\n",
              "    }\n",
              "\n",
              "    .dataframe tbody tr th {\n",
              "        vertical-align: top;\n",
              "    }\n",
              "\n",
              "    .dataframe thead th {\n",
              "        text-align: right;\n",
              "    }\n",
              "</style>\n",
              "<table border=\"1\" class=\"dataframe\">\n",
              "  <thead>\n",
              "    <tr style=\"text-align: right;\">\n",
              "      <th></th>\n",
              "      <th>Integer Feature</th>\n",
              "      <th>Categorical Feature_Arts</th>\n",
              "      <th>Categorical Feature_Commerce</th>\n",
              "      <th>Categorical Feature_Science</th>\n",
              "    </tr>\n",
              "  </thead>\n",
              "  <tbody>\n",
              "    <tr>\n",
              "      <th>0</th>\n",
              "      <td>0</td>\n",
              "      <td>0</td>\n",
              "      <td>1</td>\n",
              "      <td>0</td>\n",
              "    </tr>\n",
              "    <tr>\n",
              "      <th>1</th>\n",
              "      <td>1</td>\n",
              "      <td>0</td>\n",
              "      <td>0</td>\n",
              "      <td>1</td>\n",
              "    </tr>\n",
              "    <tr>\n",
              "      <th>2</th>\n",
              "      <td>2</td>\n",
              "      <td>1</td>\n",
              "      <td>0</td>\n",
              "      <td>0</td>\n",
              "    </tr>\n",
              "  </tbody>\n",
              "</table>\n",
              "</div>"
            ],
            "text/plain": [
              "   Integer Feature  ...  Categorical Feature_Science\n",
              "0                0  ...                            0\n",
              "1                1  ...                            1\n",
              "2                2  ...                            0\n",
              "\n",
              "[3 rows x 4 columns]"
            ]
          },
          "metadata": {}
        }
      ]
    },
    {
      "cell_type": "code",
      "metadata": {
        "colab": {
          "base_uri": "https://localhost:8080/",
          "height": 159
        },
        "id": "K_JTvBKcfr3i",
        "outputId": "9522ab11-8a06-4aa1-be63-592d44a0d7d6"
      },
      "source": [
        "demo_df['Integer Feature'] = demo_df['Integer Feature'].astype(str)\n",
        "display(pd.get_dummies(demo_df, columns=['Integer Feature', 'Categorical Feature']))"
      ],
      "execution_count": 39,
      "outputs": [
        {
          "output_type": "display_data",
          "data": {
            "text/html": [
              "<div>\n",
              "<style scoped>\n",
              "    .dataframe tbody tr th:only-of-type {\n",
              "        vertical-align: middle;\n",
              "    }\n",
              "\n",
              "    .dataframe tbody tr th {\n",
              "        vertical-align: top;\n",
              "    }\n",
              "\n",
              "    .dataframe thead th {\n",
              "        text-align: right;\n",
              "    }\n",
              "</style>\n",
              "<table border=\"1\" class=\"dataframe\">\n",
              "  <thead>\n",
              "    <tr style=\"text-align: right;\">\n",
              "      <th></th>\n",
              "      <th>Integer Feature_0</th>\n",
              "      <th>Integer Feature_1</th>\n",
              "      <th>Integer Feature_2</th>\n",
              "      <th>Categorical Feature_Arts</th>\n",
              "      <th>Categorical Feature_Commerce</th>\n",
              "      <th>Categorical Feature_Science</th>\n",
              "    </tr>\n",
              "  </thead>\n",
              "  <tbody>\n",
              "    <tr>\n",
              "      <th>0</th>\n",
              "      <td>1</td>\n",
              "      <td>0</td>\n",
              "      <td>0</td>\n",
              "      <td>0</td>\n",
              "      <td>1</td>\n",
              "      <td>0</td>\n",
              "    </tr>\n",
              "    <tr>\n",
              "      <th>1</th>\n",
              "      <td>0</td>\n",
              "      <td>1</td>\n",
              "      <td>0</td>\n",
              "      <td>0</td>\n",
              "      <td>0</td>\n",
              "      <td>1</td>\n",
              "    </tr>\n",
              "    <tr>\n",
              "      <th>2</th>\n",
              "      <td>0</td>\n",
              "      <td>0</td>\n",
              "      <td>1</td>\n",
              "      <td>1</td>\n",
              "      <td>0</td>\n",
              "      <td>0</td>\n",
              "    </tr>\n",
              "  </tbody>\n",
              "</table>\n",
              "</div>"
            ],
            "text/plain": [
              "   Integer Feature_0  ...  Categorical Feature_Science\n",
              "0                  1  ...                            0\n",
              "1                  0  ...                            1\n",
              "2                  0  ...                            0\n",
              "\n",
              "[3 rows x 6 columns]"
            ]
          },
          "metadata": {}
        }
      ]
    },
    {
      "cell_type": "markdown",
      "metadata": {
        "id": "BTxOPkT8fw6z"
      },
      "source": [
        "**OneHotEncoder and ColumnTransformer: Categorical Variables with scikit-learn**"
      ]
    },
    {
      "cell_type": "code",
      "metadata": {
        "colab": {
          "base_uri": "https://localhost:8080/"
        },
        "id": "nacm982ufzd7",
        "outputId": "e07a1ef0-ddec-4dae-efd2-b9e33ca3f92e"
      },
      "source": [
        "from sklearn.preprocessing import OneHotEncoder\n",
        "# Setting sparse=False means OneHotEncode will return a numpy array, not a sparse matrix\n",
        "ohe = OneHotEncoder(sparse=False)\n",
        "print(ohe.fit_transform(demo_df))"
      ],
      "execution_count": 40,
      "outputs": [
        {
          "output_type": "stream",
          "text": [
            "[[1. 0. 0. 0. 1. 0.]\n",
            " [0. 1. 0. 0. 0. 1.]\n",
            " [0. 0. 1. 1. 0. 0.]]\n"
          ],
          "name": "stdout"
        }
      ]
    },
    {
      "cell_type": "code",
      "metadata": {
        "colab": {
          "base_uri": "https://localhost:8080/"
        },
        "id": "498PBLCXf4l4",
        "outputId": "d0b70711-d7be-44d8-8e4c-3a2acbda282e"
      },
      "source": [
        "print(ohe.get_feature_names())"
      ],
      "execution_count": 41,
      "outputs": [
        {
          "output_type": "stream",
          "text": [
            "['x0_0' 'x0_1' 'x0_2' 'x1_Arts ' 'x1_Commerce' 'x1_Science']\n"
          ],
          "name": "stdout"
        }
      ]
    },
    {
      "cell_type": "code",
      "metadata": {
        "colab": {
          "base_uri": "https://localhost:8080/",
          "height": 204
        },
        "id": "9sftgncif-_M",
        "outputId": "250bf8ee-0fba-443f-f4e0-c36a24027028"
      },
      "source": [
        "display(df1.head())"
      ],
      "execution_count": 42,
      "outputs": [
        {
          "output_type": "display_data",
          "data": {
            "text/html": [
              "<div>\n",
              "<style scoped>\n",
              "    .dataframe tbody tr th:only-of-type {\n",
              "        vertical-align: middle;\n",
              "    }\n",
              "\n",
              "    .dataframe tbody tr th {\n",
              "        vertical-align: top;\n",
              "    }\n",
              "\n",
              "    .dataframe thead th {\n",
              "        text-align: right;\n",
              "    }\n",
              "</style>\n",
              "<table border=\"1\" class=\"dataframe\">\n",
              "  <thead>\n",
              "    <tr style=\"text-align: right;\">\n",
              "      <th></th>\n",
              "      <th>sl_no</th>\n",
              "      <th>gender</th>\n",
              "      <th>ssc_p</th>\n",
              "      <th>ssc_b</th>\n",
              "      <th>hsc_p</th>\n",
              "      <th>hsc_b</th>\n",
              "      <th>hsc_s</th>\n",
              "      <th>degree_p</th>\n",
              "      <th>degree_t</th>\n",
              "      <th>etest_p</th>\n",
              "      <th>specialisation</th>\n",
              "      <th>mba_p</th>\n",
              "      <th>status</th>\n",
              "      <th>salary</th>\n",
              "    </tr>\n",
              "  </thead>\n",
              "  <tbody>\n",
              "    <tr>\n",
              "      <th>0</th>\n",
              "      <td>1</td>\n",
              "      <td>1</td>\n",
              "      <td>67.00</td>\n",
              "      <td>1</td>\n",
              "      <td>91.00</td>\n",
              "      <td>1</td>\n",
              "      <td>1</td>\n",
              "      <td>58.00</td>\n",
              "      <td>2</td>\n",
              "      <td>55.0</td>\n",
              "      <td>1</td>\n",
              "      <td>58.80</td>\n",
              "      <td>1</td>\n",
              "      <td>270000</td>\n",
              "    </tr>\n",
              "    <tr>\n",
              "      <th>1</th>\n",
              "      <td>2</td>\n",
              "      <td>1</td>\n",
              "      <td>79.33</td>\n",
              "      <td>0</td>\n",
              "      <td>78.33</td>\n",
              "      <td>1</td>\n",
              "      <td>2</td>\n",
              "      <td>77.48</td>\n",
              "      <td>2</td>\n",
              "      <td>86.5</td>\n",
              "      <td>0</td>\n",
              "      <td>66.28</td>\n",
              "      <td>1</td>\n",
              "      <td>200000</td>\n",
              "    </tr>\n",
              "    <tr>\n",
              "      <th>2</th>\n",
              "      <td>3</td>\n",
              "      <td>1</td>\n",
              "      <td>65.00</td>\n",
              "      <td>0</td>\n",
              "      <td>68.00</td>\n",
              "      <td>0</td>\n",
              "      <td>0</td>\n",
              "      <td>64.00</td>\n",
              "      <td>0</td>\n",
              "      <td>75.0</td>\n",
              "      <td>0</td>\n",
              "      <td>57.80</td>\n",
              "      <td>1</td>\n",
              "      <td>250000</td>\n",
              "    </tr>\n",
              "    <tr>\n",
              "      <th>3</th>\n",
              "      <td>4</td>\n",
              "      <td>1</td>\n",
              "      <td>56.00</td>\n",
              "      <td>0</td>\n",
              "      <td>52.00</td>\n",
              "      <td>0</td>\n",
              "      <td>2</td>\n",
              "      <td>52.00</td>\n",
              "      <td>2</td>\n",
              "      <td>66.0</td>\n",
              "      <td>1</td>\n",
              "      <td>59.43</td>\n",
              "      <td>0</td>\n",
              "      <td>288655.0</td>\n",
              "    </tr>\n",
              "    <tr>\n",
              "      <th>4</th>\n",
              "      <td>5</td>\n",
              "      <td>1</td>\n",
              "      <td>85.80</td>\n",
              "      <td>0</td>\n",
              "      <td>73.60</td>\n",
              "      <td>0</td>\n",
              "      <td>1</td>\n",
              "      <td>73.30</td>\n",
              "      <td>0</td>\n",
              "      <td>96.8</td>\n",
              "      <td>0</td>\n",
              "      <td>55.50</td>\n",
              "      <td>1</td>\n",
              "      <td>425000</td>\n",
              "    </tr>\n",
              "  </tbody>\n",
              "</table>\n",
              "</div>"
            ],
            "text/plain": [
              "   sl_no  gender  ssc_p  ssc_b  ...  specialisation  mba_p  status    salary\n",
              "0      1       1  67.00      1  ...               1  58.80       1    270000\n",
              "1      2       1  79.33      0  ...               0  66.28       1    200000\n",
              "2      3       1  65.00      0  ...               0  57.80       1    250000\n",
              "3      4       1  56.00      0  ...               1  59.43       0  288655.0\n",
              "4      5       1  85.80      0  ...               0  55.50       1    425000\n",
              "\n",
              "[5 rows x 14 columns]"
            ]
          },
          "metadata": {}
        }
      ]
    },
    {
      "cell_type": "code",
      "metadata": {
        "id": "WoFJPUqBgNRP"
      },
      "source": [
        "from sklearn.compose import ColumnTransformer\n",
        "from sklearn.preprocessing import StandardScaler\n",
        "\n",
        "ct = ColumnTransformer(\n",
        "    [(\"scaling\", StandardScaler(), ['sl_no', 'ssc_p', 'hsc_p', 'degree_p', 'etest_p', 'mba_p','salary']),\n",
        "     (\"onehot\", OneHotEncoder(sparse=False), ['gender', 'ssc_b', 'hsc_b', 'hsc_s', 'degree_t',\n",
        "                                              'specialisation', 'status'])])"
      ],
      "execution_count": 43,
      "outputs": []
    },
    {
      "cell_type": "code",
      "metadata": {
        "colab": {
          "base_uri": "https://localhost:8080/"
        },
        "id": "kDO2-zTDgxpb",
        "outputId": "4ca91fa5-419e-4195-b6d7-72074dafaa49"
      },
      "source": [
        "from sklearn.ensemble import RandomForestClassifier\n",
        "from sklearn.model_selection import train_test_split\n",
        "# get all columns apart from status for the features\n",
        "data_features = df1.drop('status', axis=1)\n",
        "data_features = df1\n",
        "# split dataframe and status\n",
        "X_train, X_test, y_train, y_test = train_test_split(\n",
        "    data_features, df.status, random_state=0)\n",
        "\n",
        "ct.fit(X_train)\n",
        "X_train_trans = ct.transform(X_train)\n",
        "print(X_train_trans.shape)"
      ],
      "execution_count": 44,
      "outputs": [
        {
          "output_type": "stream",
          "text": [
            "(161, 23)\n"
          ],
          "name": "stdout"
        }
      ]
    },
    {
      "cell_type": "code",
      "metadata": {
        "colab": {
          "base_uri": "https://localhost:8080/"
        },
        "id": "5Zy6RTPB1k55",
        "outputId": "f621851d-9187-4921-ef0b-b729e47cd7fa"
      },
      "source": [
        "model =  RandomForestClassifier(n_estimators= 500)\n",
        "model.fit(X_train_trans, y_train)\n",
        "\n",
        "X_test_trans = ct.transform(X_test)\n",
        "print(\"Test score: {:.2f}\".format(model.score(X_test_trans, y_test)))"
      ],
      "execution_count": 45,
      "outputs": [
        {
          "output_type": "stream",
          "text": [
            "Test score: 1.00\n"
          ],
          "name": "stdout"
        }
      ]
    },
    {
      "cell_type": "code",
      "metadata": {
        "colab": {
          "base_uri": "https://localhost:8080/"
        },
        "id": "DN3yjHZg2ZvO",
        "outputId": "c6720ae2-75a8-478d-ee86-6fff1d90ce71"
      },
      "source": [
        "ct.named_transformers_.onehot"
      ],
      "execution_count": 46,
      "outputs": [
        {
          "output_type": "execute_result",
          "data": {
            "text/plain": [
              "OneHotEncoder(categories='auto', drop=None, dtype=<class 'numpy.float64'>,\n",
              "              handle_unknown='error', sparse=False)"
            ]
          },
          "metadata": {},
          "execution_count": 46
        }
      ]
    },
    {
      "cell_type": "markdown",
      "metadata": {
        "id": "qXwViGyu2dIg"
      },
      "source": [
        "# **PIPELINES**"
      ]
    },
    {
      "cell_type": "code",
      "metadata": {
        "id": "QbvgdS6y2go9"
      },
      "source": [
        "X = df1.drop(columns = [\"status\"])\n",
        "y = df1[\"status\"]"
      ],
      "execution_count": 47,
      "outputs": []
    },
    {
      "cell_type": "code",
      "metadata": {
        "id": "HXAbublS2n1j"
      },
      "source": [
        "X_train, X_, y_train, y_ = train_test_split(X, y, test_size = 0.2, random_state = 54)\n",
        "X_val, X_test, y_val, y_test = train_test_split(X_, y_, test_size = 1/5, random_state = 54)\n",
        "scaler = MinMaxScaler().fit(X_train)"
      ],
      "execution_count": 48,
      "outputs": []
    },
    {
      "cell_type": "code",
      "metadata": {
        "colab": {
          "base_uri": "https://localhost:8080/"
        },
        "id": "y0TZK6_t2qxM",
        "outputId": "bde34fbf-c723-4ea2-ba55-c1160ded147f"
      },
      "source": [
        "# rescale the training data\n",
        "X_train_scaled = scaler.transform(X_train)\n",
        "\n",
        "rf = RandomForestClassifier()\n",
        "# learn an RF on the scaled training data\n",
        "rf.fit(X_train_scaled, y_train)\n",
        "# scale the test data and score the scaled data\n",
        "X_test_scaled = scaler.transform(X_test)\n",
        "print(\"Test score: {:.2f}\".format(rf.score(X_test_scaled, y_test)))"
      ],
      "execution_count": 49,
      "outputs": [
        {
          "output_type": "stream",
          "text": [
            "Test score: 0.89\n"
          ],
          "name": "stdout"
        }
      ]
    },
    {
      "cell_type": "code",
      "metadata": {
        "colab": {
          "base_uri": "https://localhost:8080/",
          "height": 204
        },
        "id": "Ih9nzoFm2uuT",
        "outputId": "ee1951f3-6c38-4f8c-cef3-040cb97b87f3"
      },
      "source": [
        "new_scaler = MinMaxScaler().fit(X)\n",
        "new_df1 = pd.DataFrame(new_scaler.transform(X))\n",
        "new_df1['status'] = y\n",
        "new_df1.head()"
      ],
      "execution_count": 50,
      "outputs": [
        {
          "output_type": "execute_result",
          "data": {
            "text/html": [
              "<div>\n",
              "<style scoped>\n",
              "    .dataframe tbody tr th:only-of-type {\n",
              "        vertical-align: middle;\n",
              "    }\n",
              "\n",
              "    .dataframe tbody tr th {\n",
              "        vertical-align: top;\n",
              "    }\n",
              "\n",
              "    .dataframe thead th {\n",
              "        text-align: right;\n",
              "    }\n",
              "</style>\n",
              "<table border=\"1\" class=\"dataframe\">\n",
              "  <thead>\n",
              "    <tr style=\"text-align: right;\">\n",
              "      <th></th>\n",
              "      <th>0</th>\n",
              "      <th>1</th>\n",
              "      <th>2</th>\n",
              "      <th>3</th>\n",
              "      <th>4</th>\n",
              "      <th>5</th>\n",
              "      <th>6</th>\n",
              "      <th>7</th>\n",
              "      <th>8</th>\n",
              "      <th>9</th>\n",
              "      <th>10</th>\n",
              "      <th>11</th>\n",
              "      <th>12</th>\n",
              "      <th>status</th>\n",
              "    </tr>\n",
              "  </thead>\n",
              "  <tbody>\n",
              "    <tr>\n",
              "      <th>0</th>\n",
              "      <td>0.000000</td>\n",
              "      <td>1.0</td>\n",
              "      <td>0.538240</td>\n",
              "      <td>1.0</td>\n",
              "      <td>0.889621</td>\n",
              "      <td>1.0</td>\n",
              "      <td>0.5</td>\n",
              "      <td>0.195122</td>\n",
              "      <td>1.0</td>\n",
              "      <td>0.104167</td>\n",
              "      <td>1.0</td>\n",
              "      <td>0.284483</td>\n",
              "      <td>0.094595</td>\n",
              "      <td>1</td>\n",
              "    </tr>\n",
              "    <tr>\n",
              "      <th>1</th>\n",
              "      <td>0.004673</td>\n",
              "      <td>1.0</td>\n",
              "      <td>0.792414</td>\n",
              "      <td>0.0</td>\n",
              "      <td>0.680890</td>\n",
              "      <td>1.0</td>\n",
              "      <td>1.0</td>\n",
              "      <td>0.670244</td>\n",
              "      <td>1.0</td>\n",
              "      <td>0.760417</td>\n",
              "      <td>0.0</td>\n",
              "      <td>0.564843</td>\n",
              "      <td>0.000000</td>\n",
              "      <td>1</td>\n",
              "    </tr>\n",
              "    <tr>\n",
              "      <th>2</th>\n",
              "      <td>0.009346</td>\n",
              "      <td>1.0</td>\n",
              "      <td>0.497011</td>\n",
              "      <td>0.0</td>\n",
              "      <td>0.510708</td>\n",
              "      <td>0.0</td>\n",
              "      <td>0.0</td>\n",
              "      <td>0.341463</td>\n",
              "      <td>0.0</td>\n",
              "      <td>0.520833</td>\n",
              "      <td>0.0</td>\n",
              "      <td>0.247001</td>\n",
              "      <td>0.067568</td>\n",
              "      <td>1</td>\n",
              "    </tr>\n",
              "    <tr>\n",
              "      <th>3</th>\n",
              "      <td>0.014019</td>\n",
              "      <td>1.0</td>\n",
              "      <td>0.311482</td>\n",
              "      <td>0.0</td>\n",
              "      <td>0.247117</td>\n",
              "      <td>0.0</td>\n",
              "      <td>1.0</td>\n",
              "      <td>0.048780</td>\n",
              "      <td>1.0</td>\n",
              "      <td>0.333333</td>\n",
              "      <td>1.0</td>\n",
              "      <td>0.308096</td>\n",
              "      <td>0.119804</td>\n",
              "      <td>0</td>\n",
              "    </tr>\n",
              "    <tr>\n",
              "      <th>4</th>\n",
              "      <td>0.018692</td>\n",
              "      <td>1.0</td>\n",
              "      <td>0.925788</td>\n",
              "      <td>0.0</td>\n",
              "      <td>0.602965</td>\n",
              "      <td>0.0</td>\n",
              "      <td>0.5</td>\n",
              "      <td>0.568293</td>\n",
              "      <td>0.0</td>\n",
              "      <td>0.975000</td>\n",
              "      <td>0.0</td>\n",
              "      <td>0.160795</td>\n",
              "      <td>0.304054</td>\n",
              "      <td>1</td>\n",
              "    </tr>\n",
              "  </tbody>\n",
              "</table>\n",
              "</div>"
            ],
            "text/plain": [
              "          0    1         2    3  ...   10        11        12  status\n",
              "0  0.000000  1.0  0.538240  1.0  ...  1.0  0.284483  0.094595       1\n",
              "1  0.004673  1.0  0.792414  0.0  ...  0.0  0.564843  0.000000       1\n",
              "2  0.009346  1.0  0.497011  0.0  ...  0.0  0.247001  0.067568       1\n",
              "3  0.014019  1.0  0.311482  0.0  ...  1.0  0.308096  0.119804       0\n",
              "4  0.018692  1.0  0.925788  0.0  ...  0.0  0.160795  0.304054       1\n",
              "\n",
              "[5 rows x 14 columns]"
            ]
          },
          "metadata": {},
          "execution_count": 50
        }
      ]
    },
    {
      "cell_type": "markdown",
      "metadata": {
        "id": "dU4CHeaU24B7"
      },
      "source": [
        "**Membuat Pipeline untuk Model Random Forest**"
      ]
    },
    {
      "cell_type": "code",
      "metadata": {
        "id": "arRLTdfM2016"
      },
      "source": [
        "from sklearn.pipeline import Pipeline\n",
        "pipe = Pipeline([(\"scaler\", MinMaxScaler()), (\"rf\", RandomForestClassifier())])"
      ],
      "execution_count": 51,
      "outputs": []
    },
    {
      "cell_type": "code",
      "metadata": {
        "colab": {
          "base_uri": "https://localhost:8080/"
        },
        "id": "fPZu9EIp281t",
        "outputId": "7ee979e1-2880-4756-9e9a-2183750690e4"
      },
      "source": [
        "pipe.fit(X_train, y_train)"
      ],
      "execution_count": 52,
      "outputs": [
        {
          "output_type": "execute_result",
          "data": {
            "text/plain": [
              "Pipeline(memory=None,\n",
              "         steps=[('scaler', MinMaxScaler(copy=True, feature_range=(0, 1))),\n",
              "                ('rf',\n",
              "                 RandomForestClassifier(bootstrap=True, ccp_alpha=0.0,\n",
              "                                        class_weight=None, criterion='gini',\n",
              "                                        max_depth=None, max_features='auto',\n",
              "                                        max_leaf_nodes=None, max_samples=None,\n",
              "                                        min_impurity_decrease=0.0,\n",
              "                                        min_impurity_split=None,\n",
              "                                        min_samples_leaf=1, min_samples_split=2,\n",
              "                                        min_weight_fraction_leaf=0.0,\n",
              "                                        n_estimators=100, n_jobs=None,\n",
              "                                        oob_score=False, random_state=None,\n",
              "                                        verbose=0, warm_start=False))],\n",
              "         verbose=False)"
            ]
          },
          "metadata": {},
          "execution_count": 52
        }
      ]
    },
    {
      "cell_type": "code",
      "metadata": {
        "colab": {
          "base_uri": "https://localhost:8080/"
        },
        "id": "0blDOKhs3B7y",
        "outputId": "235966b7-1bed-447e-8e49-49c87828aebd"
      },
      "source": [
        "print(\"Test score: {:.2f}\".format(pipe.score(X_test, y_test)))"
      ],
      "execution_count": 53,
      "outputs": [
        {
          "output_type": "stream",
          "text": [
            "Test score: 0.89\n"
          ],
          "name": "stdout"
        }
      ]
    },
    {
      "cell_type": "markdown",
      "metadata": {
        "id": "mlb4US0n3E-9"
      },
      "source": [
        "**Pipeline dengan GridsearchCV**"
      ]
    },
    {
      "cell_type": "code",
      "metadata": {
        "id": "37WkajTK3D7s"
      },
      "source": [
        "from sklearn.ensemble import RandomForestClassifier\n",
        "from sklearn.pipeline import make_pipeline\n",
        "pipegrid = make_pipeline(StandardScaler(), RandomForestClassifier(min_samples_split= [10, 50, 100, 300, 500],\n",
        "                                                                  n_estimators= [10, 50, 100, 300, 500]))"
      ],
      "execution_count": 54,
      "outputs": []
    },
    {
      "cell_type": "code",
      "metadata": {
        "colab": {
          "base_uri": "https://localhost:8080/"
        },
        "id": "aH3R0Z6-3N2U",
        "outputId": "b89802c9-df17-4c6f-a828-c5e5a363a23c"
      },
      "source": [
        "print(\"Pipeline steps:\\n{}\".format(pipegrid.steps))"
      ],
      "execution_count": 55,
      "outputs": [
        {
          "output_type": "stream",
          "text": [
            "Pipeline steps:\n",
            "[('standardscaler', StandardScaler(copy=True, with_mean=True, with_std=True)), ('randomforestclassifier', RandomForestClassifier(bootstrap=True, ccp_alpha=0.0, class_weight=None,\n",
            "                       criterion='gini', max_depth=None, max_features='auto',\n",
            "                       max_leaf_nodes=None, max_samples=None,\n",
            "                       min_impurity_decrease=0.0, min_impurity_split=None,\n",
            "                       min_samples_leaf=1,\n",
            "                       min_samples_split=[10, 50, 100, 300, 500],\n",
            "                       min_weight_fraction_leaf=0.0,\n",
            "                       n_estimators=[10, 50, 100, 300, 500], n_jobs=None,\n",
            "                       oob_score=False, random_state=None, verbose=0,\n",
            "                       warm_start=False))]\n"
          ],
          "name": "stdout"
        }
      ]
    },
    {
      "cell_type": "code",
      "metadata": {
        "id": "GKU_2Ot33RP1"
      },
      "source": [
        "param_grid = {'rf__min_samples_split': [10, 50, 100, 300, 500],\n",
        "              'rf__n_estimators': [10, 50, 100, 300, 500]}"
      ],
      "execution_count": 56,
      "outputs": []
    },
    {
      "cell_type": "code",
      "metadata": {
        "colab": {
          "base_uri": "https://localhost:8080/"
        },
        "id": "K0Y1OWed3UOl",
        "outputId": "5c331385-d9d2-4fe6-e7b7-c83c83ffcbb2"
      },
      "source": [
        "from sklearn.model_selection import GridSearchCV\n",
        "grid = GridSearchCV(pipe, param_grid=param_grid, cv=5)\n",
        "grid.fit(X_train, y_train)\n",
        "print(\"Best cross-validation accuracy: {:.2f}\".format(grid.best_score_))\n",
        "print(\"Test set score: {:.2f}\".format(grid.score(X_test, y_test)))\n",
        "print(\"Best parameters: {}\".format(grid.best_params_))"
      ],
      "execution_count": 57,
      "outputs": [
        {
          "output_type": "stream",
          "text": [
            "Best cross-validation accuracy: 0.94\n",
            "Test set score: 0.89\n",
            "Best parameters: {'rf__min_samples_split': 10, 'rf__n_estimators': 500}\n"
          ],
          "name": "stdout"
        }
      ]
    },
    {
      "cell_type": "markdown",
      "metadata": {
        "id": "MdI32HK43iGu"
      },
      "source": [
        "# **MODEL RANDOM FOREST**"
      ]
    },
    {
      "cell_type": "code",
      "metadata": {
        "id": "ohIVEaOu3lH_"
      },
      "source": [
        "# split X and y into training and testing sets\n",
        "from sklearn.model_selection import train_test_split\n",
        "\n",
        "X_train, X_test, y_train, y_test = train_test_split(X, y, test_size = 0.2, random_state = 54)"
      ],
      "execution_count": 58,
      "outputs": []
    },
    {
      "cell_type": "code",
      "metadata": {
        "colab": {
          "base_uri": "https://localhost:8080/"
        },
        "id": "VgRGS_LS3o7c",
        "outputId": "97d2803b-f7a0-4c0a-9127-82ed9b347564"
      },
      "source": [
        "X_train.shape, X_test.shape"
      ],
      "execution_count": 59,
      "outputs": [
        {
          "output_type": "execute_result",
          "data": {
            "text/plain": [
              "((172, 13), (43, 13))"
            ]
          },
          "metadata": {},
          "execution_count": 59
        }
      ]
    },
    {
      "cell_type": "code",
      "metadata": {
        "id": "H_O56fXm3toa"
      },
      "source": [
        "from sklearn.metrics import confusion_matrix, accuracy_score, classification_report\n",
        "\n",
        "\n",
        "def evaluate(model, X_train, X_test, y_train, y_test):\n",
        "    y_test_pred = model.predict(X_test)\n",
        "    y_train_pred = model.predict(X_train)\n",
        "\n",
        "    print(\"TRAINIG RESULTS: \\n===============================\")\n",
        "    clf_report = pd.DataFrame(classification_report(y_train, y_train_pred, output_dict=True))\n",
        "    print(f\"CONFUSION MATRIX:\\n{confusion_matrix(y_train, y_train_pred)}\")\n",
        "    print(f\"ACCURACY SCORE:\\n{accuracy_score(y_train, y_train_pred):.4f}\")\n",
        "    print(f\"CLASSIFICATION REPORT:\\n{clf_report}\")\n",
        "\n",
        "    print(\"TESTING RESULTS: \\n===============================\")\n",
        "    clf_report = pd.DataFrame(classification_report(y_test, y_test_pred, output_dict=True))\n",
        "    print(f\"CONFUSION MATRIX:\\n{confusion_matrix(y_test, y_test_pred)}\")\n",
        "    print(f\"ACCURACY SCORE:\\n{accuracy_score(y_test, y_test_pred):.4f}\")\n",
        "    print(f\"CLASSIFICATION REPORT:\\n{clf_report}\")"
      ],
      "execution_count": 60,
      "outputs": []
    },
    {
      "cell_type": "code",
      "metadata": {
        "colab": {
          "base_uri": "https://localhost:8080/"
        },
        "id": "5dccpmrA3w8w",
        "outputId": "edb11edf-cc73-4adf-d500-871105e5e3d6"
      },
      "source": [
        "from sklearn.ensemble import RandomForestClassifier\n",
        "\n",
        "rf_clf = RandomForestClassifier(random_state=42, n_estimators=1000)\n",
        "rf_clf.fit(X_train, y_train)\n",
        "evaluate(rf_clf, X_train, X_test, y_train, y_test)"
      ],
      "execution_count": 61,
      "outputs": [
        {
          "output_type": "stream",
          "text": [
            "TRAINIG RESULTS: \n",
            "===============================\n",
            "CONFUSION MATRIX:\n",
            "[[ 55   0]\n",
            " [  0 117]]\n",
            "ACCURACY SCORE:\n",
            "1.0000\n",
            "CLASSIFICATION REPORT:\n",
            "              0      1  accuracy  macro avg  weighted avg\n",
            "precision   1.0    1.0       1.0        1.0           1.0\n",
            "recall      1.0    1.0       1.0        1.0           1.0\n",
            "f1-score    1.0    1.0       1.0        1.0           1.0\n",
            "support    55.0  117.0       1.0      172.0         172.0\n",
            "TESTING RESULTS: \n",
            "===============================\n",
            "CONFUSION MATRIX:\n",
            "[[11  1]\n",
            " [ 1 30]]\n",
            "ACCURACY SCORE:\n",
            "0.9535\n",
            "CLASSIFICATION REPORT:\n",
            "                   0          1  accuracy  macro avg  weighted avg\n",
            "precision   0.916667   0.967742  0.953488   0.942204      0.953488\n",
            "recall      0.916667   0.967742  0.953488   0.942204      0.953488\n",
            "f1-score    0.916667   0.967742  0.953488   0.942204      0.953488\n",
            "support    12.000000  31.000000  0.953488  43.000000     43.000000\n"
          ],
          "name": "stdout"
        }
      ]
    },
    {
      "cell_type": "markdown",
      "metadata": {
        "id": "lY3VaPF732eC"
      },
      "source": [
        "# **MODEL EVALUATION**"
      ]
    },
    {
      "cell_type": "code",
      "metadata": {
        "colab": {
          "base_uri": "https://localhost:8080/"
        },
        "id": "B2unsAFl30Jx",
        "outputId": "88cab429-a319-45fc-e20a-30056f63833e"
      },
      "source": [
        "X.shape"
      ],
      "execution_count": 62,
      "outputs": [
        {
          "output_type": "execute_result",
          "data": {
            "text/plain": [
              "(215, 13)"
            ]
          },
          "metadata": {},
          "execution_count": 62
        }
      ]
    },
    {
      "cell_type": "code",
      "metadata": {
        "colab": {
          "base_uri": "https://localhost:8080/"
        },
        "id": "fLCXR4uN38S_",
        "outputId": "dddc2a43-a49a-433a-a1b0-ba32c4286d96"
      },
      "source": [
        "y.value_counts()"
      ],
      "execution_count": 63,
      "outputs": [
        {
          "output_type": "execute_result",
          "data": {
            "text/plain": [
              "1    148\n",
              "0     67\n",
              "Name: status, dtype: int64"
            ]
          },
          "metadata": {},
          "execution_count": 63
        }
      ]
    },
    {
      "cell_type": "code",
      "metadata": {
        "id": "rLDRuPkS3_LN"
      },
      "source": [
        "# train test split\n",
        "from sklearn.model_selection import train_test_split\n",
        "X_train, X_test, y_train, y_test = train_test_split(X, y, test_size=0.2, stratify=y, random_state=0)"
      ],
      "execution_count": 64,
      "outputs": []
    },
    {
      "cell_type": "code",
      "metadata": {
        "id": "7pA5K5ov4COy"
      },
      "source": [
        "from sklearn.ensemble import RandomForestClassifier\n",
        "rf = RandomForestClassifier(n_estimators=10)\n",
        "rf.fit(X_train, y_train)\n",
        "y_pred = rf.predict(X_test)"
      ],
      "execution_count": 65,
      "outputs": []
    },
    {
      "cell_type": "code",
      "metadata": {
        "colab": {
          "base_uri": "https://localhost:8080/"
        },
        "id": "YO__0wpk4Gxr",
        "outputId": "7e840273-5c63-4912-8491-7bb3eb994a99"
      },
      "source": [
        "from sklearn.metrics import confusion_matrix, classification_report, accuracy_score\n",
        "print(confusion_matrix(y_pred, y_test))\n",
        "print(classification_report(y_pred,y_test))\n",
        "print(accuracy_score(y_pred, y_test))"
      ],
      "execution_count": 66,
      "outputs": [
        {
          "output_type": "stream",
          "text": [
            "[[11  1]\n",
            " [ 2 29]]\n",
            "              precision    recall  f1-score   support\n",
            "\n",
            "           0       0.85      0.92      0.88        12\n",
            "           1       0.97      0.94      0.95        31\n",
            "\n",
            "    accuracy                           0.93        43\n",
            "   macro avg       0.91      0.93      0.92        43\n",
            "weighted avg       0.93      0.93      0.93        43\n",
            "\n",
            "0.9302325581395349\n"
          ],
          "name": "stdout"
        }
      ]
    },
    {
      "cell_type": "markdown",
      "metadata": {
        "id": "OdCwaFC04LiO"
      },
      "source": [
        "**Manual Search**"
      ]
    },
    {
      "cell_type": "code",
      "metadata": {
        "colab": {
          "base_uri": "https://localhost:8080/"
        },
        "id": "wICW-mIA4Jrv",
        "outputId": "8d31ded6-306d-4887-c0d1-a7adb454711c"
      },
      "source": [
        "model_1 = RandomForestClassifier(n_estimators=300,\n",
        "                                 criterion='entropy',\n",
        "                                 max_features='sqrt',\n",
        "                                 min_samples_leaf=10)\n",
        "model_1.fit(X_train, y_train)\n",
        "y_pred = model_1.predict(X_test)\n",
        "print(confusion_matrix(y_pred, y_test))\n",
        "print(classification_report(y_pred,y_test))\n",
        "print(accuracy_score(y_pred, y_test))"
      ],
      "execution_count": 67,
      "outputs": [
        {
          "output_type": "stream",
          "text": [
            "[[11  0]\n",
            " [ 2 30]]\n",
            "              precision    recall  f1-score   support\n",
            "\n",
            "           0       0.85      1.00      0.92        11\n",
            "           1       1.00      0.94      0.97        32\n",
            "\n",
            "    accuracy                           0.95        43\n",
            "   macro avg       0.92      0.97      0.94        43\n",
            "weighted avg       0.96      0.95      0.95        43\n",
            "\n",
            "0.9534883720930233\n"
          ],
          "name": "stdout"
        }
      ]
    },
    {
      "cell_type": "markdown",
      "metadata": {
        "id": "Bd3S0q8DLb8b"
      },
      "source": [
        "# **MODEL IMPROVEMENT**"
      ]
    },
    {
      "cell_type": "markdown",
      "metadata": {
        "id": "zTE_b0yx4WBI"
      },
      "source": [
        "**Random Search**"
      ]
    },
    {
      "cell_type": "code",
      "metadata": {
        "id": "yh_m4mT84T6E"
      },
      "source": [
        "import numpy as np\n",
        "from sklearn.model_selection import RandomizedSearchCV\n",
        "n_estimators = [int(x) for x in np.linspace(start=200, stop=2000, num = 10)]\n",
        "max_features = ['auto', 'sqrt', 'log2']\n",
        "max_depth = [int(x) for x in np.linspace(10, 1000, 10)]\n",
        "min_samples_split = [2, 5, 10, 14]\n",
        "min_samples_leaf = [1, 2, 4, 6, 8]\n",
        "random_grid = {'n_estimators': n_estimators,\n",
        "               'max_features':max_features,\n",
        "               'max_depth':max_depth,\n",
        "               'min_samples_split':min_samples_split,\n",
        "               'min_samples_leaf':min_samples_leaf,\n",
        "               'criterion':['entropy','gini']}"
      ],
      "execution_count": 68,
      "outputs": []
    },
    {
      "cell_type": "code",
      "metadata": {
        "colab": {
          "base_uri": "https://localhost:8080/"
        },
        "id": "qNCCcWXx4eE0",
        "outputId": "9b3f17a7-0b5e-4e23-9105-2e94081d38d7"
      },
      "source": [
        "rf = RandomForestClassifier()\n",
        "rf_randomcv = RandomizedSearchCV(estimator=rf, param_distributions=random_grid,\n",
        "                                 cv=5, random_state=46, n_jobs=-1)\n",
        "rf_randomcv.fit(X_train, y_train)"
      ],
      "execution_count": 69,
      "outputs": [
        {
          "output_type": "execute_result",
          "data": {
            "text/plain": [
              "RandomizedSearchCV(cv=5, error_score=nan,\n",
              "                   estimator=RandomForestClassifier(bootstrap=True,\n",
              "                                                    ccp_alpha=0.0,\n",
              "                                                    class_weight=None,\n",
              "                                                    criterion='gini',\n",
              "                                                    max_depth=None,\n",
              "                                                    max_features='auto',\n",
              "                                                    max_leaf_nodes=None,\n",
              "                                                    max_samples=None,\n",
              "                                                    min_impurity_decrease=0.0,\n",
              "                                                    min_impurity_split=None,\n",
              "                                                    min_samples_leaf=1,\n",
              "                                                    min_samples_split=2,\n",
              "                                                    min_weight_fraction_leaf=0.0,\n",
              "                                                    n_estimators=100,\n",
              "                                                    n_jobs...\n",
              "                   param_distributions={'criterion': ['entropy', 'gini'],\n",
              "                                        'max_depth': [10, 120, 230, 340, 450,\n",
              "                                                      560, 670, 780, 890,\n",
              "                                                      1000],\n",
              "                                        'max_features': ['auto', 'sqrt',\n",
              "                                                         'log2'],\n",
              "                                        'min_samples_leaf': [1, 2, 4, 6, 8],\n",
              "                                        'min_samples_split': [2, 5, 10, 14],\n",
              "                                        'n_estimators': [200, 400, 600, 800,\n",
              "                                                         1000, 1200, 1400, 1600,\n",
              "                                                         1800, 2000]},\n",
              "                   pre_dispatch='2*n_jobs', random_state=46, refit=True,\n",
              "                   return_train_score=False, scoring=None, verbose=0)"
            ]
          },
          "metadata": {},
          "execution_count": 69
        }
      ]
    },
    {
      "cell_type": "code",
      "metadata": {
        "colab": {
          "base_uri": "https://localhost:8080/"
        },
        "id": "1VAsnkRT4yfd",
        "outputId": "0e1d33a8-d4c9-4e8f-d417-e2097fd2bcd1"
      },
      "source": [
        "rf_randomcv.best_params_"
      ],
      "execution_count": 70,
      "outputs": [
        {
          "output_type": "execute_result",
          "data": {
            "text/plain": [
              "{'criterion': 'entropy',\n",
              " 'max_depth': 450,\n",
              " 'max_features': 'auto',\n",
              " 'min_samples_leaf': 2,\n",
              " 'min_samples_split': 5,\n",
              " 'n_estimators': 2000}"
            ]
          },
          "metadata": {},
          "execution_count": 70
        }
      ]
    },
    {
      "cell_type": "code",
      "metadata": {
        "id": "aV0LDWzw41oW"
      },
      "source": [
        "rf_best_random = rf_randomcv.best_estimator_"
      ],
      "execution_count": 71,
      "outputs": []
    },
    {
      "cell_type": "code",
      "metadata": {
        "colab": {
          "base_uri": "https://localhost:8080/"
        },
        "id": "NuAJzDkI45JL",
        "outputId": "4bcb25ef-cf37-4239-e440-83ebc54d2195"
      },
      "source": [
        "y_pred = rf_best_random.predict(X_test)\n",
        "print(confusion_matrix(y_pred, y_test))\n",
        "print(classification_report(y_pred,y_test))\n",
        "print(accuracy_score(y_pred, y_test))"
      ],
      "execution_count": 72,
      "outputs": [
        {
          "output_type": "stream",
          "text": [
            "[[12  0]\n",
            " [ 1 30]]\n",
            "              precision    recall  f1-score   support\n",
            "\n",
            "           0       0.92      1.00      0.96        12\n",
            "           1       1.00      0.97      0.98        31\n",
            "\n",
            "    accuracy                           0.98        43\n",
            "   macro avg       0.96      0.98      0.97        43\n",
            "weighted avg       0.98      0.98      0.98        43\n",
            "\n",
            "0.9767441860465116\n"
          ],
          "name": "stdout"
        }
      ]
    },
    {
      "cell_type": "markdown",
      "metadata": {
        "id": "C2P5eyKA4_jO"
      },
      "source": [
        "**Grid Search**"
      ]
    },
    {
      "cell_type": "code",
      "metadata": {
        "colab": {
          "base_uri": "https://localhost:8080/"
        },
        "id": "XJfrgBTU49WE",
        "outputId": "c4556f40-5b2e-47da-eefa-0e2630342a64"
      },
      "source": [
        "from sklearn.model_selection import GridSearchCV\n",
        "\n",
        "param_grid = {\n",
        "    'criterion': [rf_randomcv.best_params_['criterion']],\n",
        "    'max_depth': [rf_randomcv.best_params_['max_depth']],\n",
        "    'max_features': [rf_randomcv.best_params_['max_features']],\n",
        "    'min_samples_leaf': [rf_randomcv.best_params_['min_samples_leaf'], \n",
        "                         rf_randomcv.best_params_['min_samples_leaf']+2, \n",
        "                         rf_randomcv.best_params_['min_samples_leaf'] + 4],\n",
        "    'min_samples_split': [rf_randomcv.best_params_['min_samples_split'] - 2,\n",
        "                          rf_randomcv.best_params_['min_samples_split'] - 1,\n",
        "                          rf_randomcv.best_params_['min_samples_split'], \n",
        "                          rf_randomcv.best_params_['min_samples_split'] +1,\n",
        "                          rf_randomcv.best_params_['min_samples_split'] + 2],\n",
        "    'n_estimators': [rf_randomcv.best_params_['n_estimators'] - 200, rf_randomcv.best_params_['n_estimators'] - 100, \n",
        "                     rf_randomcv.best_params_['n_estimators'], \n",
        "                     rf_randomcv.best_params_['n_estimators'] + 100, rf_randomcv.best_params_['n_estimators'] + 200]\n",
        "}\n",
        "\n",
        "print(param_grid) "
      ],
      "execution_count": 73,
      "outputs": [
        {
          "output_type": "stream",
          "text": [
            "{'criterion': ['entropy'], 'max_depth': [450], 'max_features': ['auto'], 'min_samples_leaf': [2, 4, 6], 'min_samples_split': [3, 4, 5, 6, 7], 'n_estimators': [1800, 1900, 2000, 2100, 2200]}\n"
          ],
          "name": "stdout"
        }
      ]
    },
    {
      "cell_type": "code",
      "metadata": {
        "colab": {
          "base_uri": "https://localhost:8080/"
        },
        "id": "zEIevmFr5HQ4",
        "outputId": "1c1dc1ec-cfe0-49d9-c34c-7256c127caae"
      },
      "source": [
        "rf=RandomForestClassifier()\n",
        "grid_search=GridSearchCV(estimator=rf,param_grid=param_grid,cv=10,n_jobs=-1,verbose=2)\n",
        "grid_search.fit(X_train,y_train)"
      ],
      "execution_count": 74,
      "outputs": [
        {
          "output_type": "stream",
          "text": [
            "Fitting 10 folds for each of 75 candidates, totalling 750 fits\n"
          ],
          "name": "stdout"
        },
        {
          "output_type": "stream",
          "text": [
            "[Parallel(n_jobs=-1)]: Using backend LokyBackend with 2 concurrent workers.\n",
            "[Parallel(n_jobs=-1)]: Done  37 tasks      | elapsed:  1.5min\n",
            "[Parallel(n_jobs=-1)]: Done 158 tasks      | elapsed:  6.5min\n",
            "[Parallel(n_jobs=-1)]: Done 361 tasks      | elapsed: 14.7min\n",
            "[Parallel(n_jobs=-1)]: Done 644 tasks      | elapsed: 26.1min\n",
            "[Parallel(n_jobs=-1)]: Done 750 out of 750 | elapsed: 30.4min finished\n"
          ],
          "name": "stderr"
        },
        {
          "output_type": "execute_result",
          "data": {
            "text/plain": [
              "GridSearchCV(cv=10, error_score=nan,\n",
              "             estimator=RandomForestClassifier(bootstrap=True, ccp_alpha=0.0,\n",
              "                                              class_weight=None,\n",
              "                                              criterion='gini', max_depth=None,\n",
              "                                              max_features='auto',\n",
              "                                              max_leaf_nodes=None,\n",
              "                                              max_samples=None,\n",
              "                                              min_impurity_decrease=0.0,\n",
              "                                              min_impurity_split=None,\n",
              "                                              min_samples_leaf=1,\n",
              "                                              min_samples_split=2,\n",
              "                                              min_weight_fraction_leaf=0.0,\n",
              "                                              n_estimators=100, n_jobs=None,\n",
              "                                              oob_score=False,\n",
              "                                              random_state=None, verbose=0,\n",
              "                                              warm_start=False),\n",
              "             iid='deprecated', n_jobs=-1,\n",
              "             param_grid={'criterion': ['entropy'], 'max_depth': [450],\n",
              "                         'max_features': ['auto'],\n",
              "                         'min_samples_leaf': [2, 4, 6],\n",
              "                         'min_samples_split': [3, 4, 5, 6, 7],\n",
              "                         'n_estimators': [1800, 1900, 2000, 2100, 2200]},\n",
              "             pre_dispatch='2*n_jobs', refit=True, return_train_score=False,\n",
              "             scoring=None, verbose=2)"
            ]
          },
          "metadata": {},
          "execution_count": 74
        }
      ]
    },
    {
      "cell_type": "code",
      "metadata": {
        "id": "dQbqzaWD_x56"
      },
      "source": [
        "best_grid=grid_search.best_estimator_"
      ],
      "execution_count": 75,
      "outputs": []
    },
    {
      "cell_type": "code",
      "metadata": {
        "colab": {
          "base_uri": "https://localhost:8080/"
        },
        "id": "1ddivzef_4QU",
        "outputId": "52477492-d997-42bd-dbee-22baa93df8ca"
      },
      "source": [
        "best_grid"
      ],
      "execution_count": 76,
      "outputs": [
        {
          "output_type": "execute_result",
          "data": {
            "text/plain": [
              "RandomForestClassifier(bootstrap=True, ccp_alpha=0.0, class_weight=None,\n",
              "                       criterion='entropy', max_depth=450, max_features='auto',\n",
              "                       max_leaf_nodes=None, max_samples=None,\n",
              "                       min_impurity_decrease=0.0, min_impurity_split=None,\n",
              "                       min_samples_leaf=2, min_samples_split=3,\n",
              "                       min_weight_fraction_leaf=0.0, n_estimators=1800,\n",
              "                       n_jobs=None, oob_score=False, random_state=None,\n",
              "                       verbose=0, warm_start=False)"
            ]
          },
          "metadata": {},
          "execution_count": 76
        }
      ]
    },
    {
      "cell_type": "code",
      "metadata": {
        "colab": {
          "base_uri": "https://localhost:8080/"
        },
        "id": "J112JJdx_7Wi",
        "outputId": "2da2c2b1-8a38-494c-cc81-8266d1b3425b"
      },
      "source": [
        "y_pred = best_grid.predict(X_test)\n",
        "print(confusion_matrix(y_pred, y_test))\n",
        "print(classification_report(y_pred,y_test))\n",
        "print(accuracy_score(y_pred, y_test))"
      ],
      "execution_count": 77,
      "outputs": [
        {
          "output_type": "stream",
          "text": [
            "[[12  0]\n",
            " [ 1 30]]\n",
            "              precision    recall  f1-score   support\n",
            "\n",
            "           0       0.92      1.00      0.96        12\n",
            "           1       1.00      0.97      0.98        31\n",
            "\n",
            "    accuracy                           0.98        43\n",
            "   macro avg       0.96      0.98      0.97        43\n",
            "weighted avg       0.98      0.98      0.98        43\n",
            "\n",
            "0.9767441860465116\n"
          ],
          "name": "stdout"
        }
      ]
    },
    {
      "cell_type": "markdown",
      "metadata": {
        "id": "XEshCGUOLkR2"
      },
      "source": [
        "# **ADDITIONAL MODEL EVALUATION**"
      ]
    },
    {
      "cell_type": "markdown",
      "metadata": {
        "id": "RuQJGHfFACgg"
      },
      "source": [
        "**Parameter Tuning Based on Bayesian Optimization**"
      ]
    },
    {
      "cell_type": "code",
      "metadata": {
        "colab": {
          "base_uri": "https://localhost:8080/"
        },
        "id": "Zm2cT2VGAE3s",
        "outputId": "7fa2315c-e5dd-4a4f-c6f2-4a64341d08ad"
      },
      "source": [
        "!pip install hyperopt"
      ],
      "execution_count": 78,
      "outputs": [
        {
          "output_type": "stream",
          "text": [
            "Requirement already satisfied: hyperopt in /usr/local/lib/python3.7/dist-packages (0.1.2)\n",
            "Requirement already satisfied: future in /usr/local/lib/python3.7/dist-packages (from hyperopt) (0.16.0)\n",
            "Requirement already satisfied: numpy in /usr/local/lib/python3.7/dist-packages (from hyperopt) (1.19.5)\n",
            "Requirement already satisfied: tqdm in /usr/local/lib/python3.7/dist-packages (from hyperopt) (4.62.0)\n",
            "Requirement already satisfied: pymongo in /usr/local/lib/python3.7/dist-packages (from hyperopt) (3.12.0)\n",
            "Requirement already satisfied: networkx in /usr/local/lib/python3.7/dist-packages (from hyperopt) (2.6.2)\n",
            "Requirement already satisfied: scipy in /usr/local/lib/python3.7/dist-packages (from hyperopt) (1.4.1)\n",
            "Requirement already satisfied: six in /usr/local/lib/python3.7/dist-packages (from hyperopt) (1.15.0)\n"
          ],
          "name": "stdout"
        }
      ]
    },
    {
      "cell_type": "code",
      "metadata": {
        "id": "0mMn4k3bAIt6"
      },
      "source": [
        "from hyperopt import hp, fmin, tpe, STATUS_OK, Trials"
      ],
      "execution_count": 79,
      "outputs": []
    },
    {
      "cell_type": "code",
      "metadata": {
        "id": "MN-tSqlXAMFL"
      },
      "source": [
        "space = {'criterion': hp.choice('criterion', ['entropy', 'gini']),\n",
        "        'max_depth': hp.quniform('max_depth', 10, 1200, 10),\n",
        "        'max_features': hp.choice('max_features', ['auto', 'sqrt','log2', None]),\n",
        "        'min_samples_leaf': hp.uniform('min_samples_leaf', 0, 0.5),\n",
        "        'min_samples_split' : hp.uniform ('min_samples_split', 0, 1),\n",
        "        'n_estimators' : hp.choice('n_estimators', [10, 50, 300, 750, 1200,1300,1500])\n",
        "    }"
      ],
      "execution_count": 80,
      "outputs": []
    },
    {
      "cell_type": "code",
      "metadata": {
        "colab": {
          "base_uri": "https://localhost:8080/"
        },
        "id": "ic_DywiLAQD8",
        "outputId": "2bcd3f6d-4084-4d26-d1a1-a9e784ab1170"
      },
      "source": [
        "space"
      ],
      "execution_count": 81,
      "outputs": [
        {
          "output_type": "execute_result",
          "data": {
            "text/plain": [
              "{'criterion': <hyperopt.pyll.base.Apply at 0x7fa3cf389550>,\n",
              " 'max_depth': <hyperopt.pyll.base.Apply at 0x7fa3cf389790>,\n",
              " 'max_features': <hyperopt.pyll.base.Apply at 0x7fa3cf3898d0>,\n",
              " 'min_samples_leaf': <hyperopt.pyll.base.Apply at 0x7fa3cf389b90>,\n",
              " 'min_samples_split': <hyperopt.pyll.base.Apply at 0x7fa3cf389d10>,\n",
              " 'n_estimators': <hyperopt.pyll.base.Apply at 0x7fa3cf389e90>}"
            ]
          },
          "metadata": {},
          "execution_count": 81
        }
      ]
    },
    {
      "cell_type": "code",
      "metadata": {
        "id": "Szsxm0jcAVOo"
      },
      "source": [
        "from sklearn.model_selection import cross_val_score\n",
        "def objective(space):\n",
        "    model = RandomForestClassifier(criterion = space['criterion'], max_depth = space['max_depth'],\n",
        "                                 max_features = space['max_features'],\n",
        "                                 min_samples_leaf = space['min_samples_leaf'],\n",
        "                                 min_samples_split = space['min_samples_split'],\n",
        "                                 n_estimators = space['n_estimators'], \n",
        "                                 )\n",
        "    \n",
        "    accuracy = cross_val_score(model, X_train, y_train, cv = 5).mean()\n",
        "\n",
        "    # tujuan ingin memaksimalkan akurasi, sehingga meminimumkan negatif akurasi\n",
        "    return {'loss': -1*accuracy, 'status': STATUS_OK }"
      ],
      "execution_count": 82,
      "outputs": []
    },
    {
      "cell_type": "code",
      "metadata": {
        "colab": {
          "base_uri": "https://localhost:8080/"
        },
        "id": "KReoqZFZAWvV",
        "outputId": "84f76c0e-889f-4056-f929-c3ff078c93d2"
      },
      "source": [
        "trials = Trials()\n",
        "best = fmin(fn=objective,\n",
        "            space=space,\n",
        "            algo=tpe.suggest,\n",
        "            max_evals=80,\n",
        "            trials=trials)\n",
        "best"
      ],
      "execution_count": 83,
      "outputs": [
        {
          "output_type": "stream",
          "text": [
            "100%|██████████| 80/80 [09:07<00:00,  6.85s/it, best loss: -0.9826890756302522]\n"
          ],
          "name": "stdout"
        },
        {
          "output_type": "execute_result",
          "data": {
            "text/plain": [
              "{'criterion': 0,\n",
              " 'max_depth': 390.0,\n",
              " 'max_features': 3,\n",
              " 'min_samples_leaf': 0.00924941837208415,\n",
              " 'min_samples_split': 0.038799439451103784,\n",
              " 'n_estimators': 6}"
            ]
          },
          "metadata": {},
          "execution_count": 83
        }
      ]
    },
    {
      "cell_type": "code",
      "metadata": {
        "colab": {
          "base_uri": "https://localhost:8080/"
        },
        "id": "egyYkZeCCEoQ",
        "outputId": "59c759ab-3c3d-4400-83f1-eba11824c443"
      },
      "source": [
        "crit = {0: 'entropy', 1: 'gini'}\n",
        "feat = {0: 'auto', 1: 'sqrt', 2: 'log2', 3: None}\n",
        "est = {0: 10, 1: 50, 2: 300, 3: 750, 4: 1200,5:1300,6:1500}\n",
        "\n",
        "\n",
        "print(crit[best['criterion']])\n",
        "print(feat[best['max_features']])\n",
        "print(est[best['n_estimators']])"
      ],
      "execution_count": 84,
      "outputs": [
        {
          "output_type": "stream",
          "text": [
            "entropy\n",
            "None\n",
            "1500\n"
          ],
          "name": "stdout"
        }
      ]
    },
    {
      "cell_type": "code",
      "metadata": {
        "colab": {
          "base_uri": "https://localhost:8080/"
        },
        "id": "zIbGpKBOCG1W",
        "outputId": "d3b0acc8-1cdb-46e5-eb61-89b7ca9d11e0"
      },
      "source": [
        "trainedforest = RandomForestClassifier(criterion = crit[best['criterion']], max_depth = best['max_depth'], \n",
        "                                       max_features = feat[best['max_features']], \n",
        "                                       min_samples_leaf = best['min_samples_leaf'], \n",
        "                                       min_samples_split = best['min_samples_split'], \n",
        "                                       n_estimators = est[best['n_estimators']]).fit(X_train,y_train)\n",
        "y_pred = trainedforest.predict(X_test)\n",
        "print(confusion_matrix(y_pred, y_test))\n",
        "print(classification_report(y_pred,y_test))\n",
        "print(accuracy_score(y_pred, y_test))"
      ],
      "execution_count": 85,
      "outputs": [
        {
          "output_type": "stream",
          "text": [
            "[[13  0]\n",
            " [ 0 30]]\n",
            "              precision    recall  f1-score   support\n",
            "\n",
            "           0       1.00      1.00      1.00        13\n",
            "           1       1.00      1.00      1.00        30\n",
            "\n",
            "    accuracy                           1.00        43\n",
            "   macro avg       1.00      1.00      1.00        43\n",
            "weighted avg       1.00      1.00      1.00        43\n",
            "\n",
            "1.0\n"
          ],
          "name": "stdout"
        }
      ]
    },
    {
      "cell_type": "markdown",
      "metadata": {
        "id": "2Wd0KCRQCPFD"
      },
      "source": [
        "# **MODEL INFERENCE**"
      ]
    },
    {
      "cell_type": "markdown",
      "metadata": {
        "id": "0OTg5raOL9OU"
      },
      "source": [
        "**Manual Search**"
      ]
    },
    {
      "cell_type": "code",
      "metadata": {
        "colab": {
          "base_uri": "https://localhost:8080/"
        },
        "id": "ENiKqt3bCSd-",
        "outputId": "8f26f36f-5ec2-43c4-c903-128c2db361a9"
      },
      "source": [
        "y_pred = model_1.predict(X_test)\n",
        "print(confusion_matrix(y_pred, y_test))\n",
        "print(classification_report(y_pred, y_test))\n",
        "print(accuracy_score(y_pred, y_test))"
      ],
      "execution_count": 86,
      "outputs": [
        {
          "output_type": "stream",
          "text": [
            "[[11  0]\n",
            " [ 2 30]]\n",
            "              precision    recall  f1-score   support\n",
            "\n",
            "           0       0.85      1.00      0.92        11\n",
            "           1       1.00      0.94      0.97        32\n",
            "\n",
            "    accuracy                           0.95        43\n",
            "   macro avg       0.92      0.97      0.94        43\n",
            "weighted avg       0.96      0.95      0.95        43\n",
            "\n",
            "0.9534883720930233\n"
          ],
          "name": "stdout"
        }
      ]
    },
    {
      "cell_type": "markdown",
      "metadata": {
        "id": "5BVXa_iAMAbj"
      },
      "source": [
        "**Random Search**"
      ]
    },
    {
      "cell_type": "code",
      "metadata": {
        "colab": {
          "base_uri": "https://localhost:8080/"
        },
        "id": "o-sGxQ_iMGtA",
        "outputId": "e585bb28-785d-4999-a194-3bac45658eb2"
      },
      "source": [
        "y_pred = rf_best_random.predict(X_test)\n",
        "print(confusion_matrix(y_pred, y_test))\n",
        "print(classification_report(y_pred,y_test))\n",
        "print(accuracy_score(y_pred, y_test))"
      ],
      "execution_count": 87,
      "outputs": [
        {
          "output_type": "stream",
          "text": [
            "[[12  0]\n",
            " [ 1 30]]\n",
            "              precision    recall  f1-score   support\n",
            "\n",
            "           0       0.92      1.00      0.96        12\n",
            "           1       1.00      0.97      0.98        31\n",
            "\n",
            "    accuracy                           0.98        43\n",
            "   macro avg       0.96      0.98      0.97        43\n",
            "weighted avg       0.98      0.98      0.98        43\n",
            "\n",
            "0.9767441860465116\n"
          ],
          "name": "stdout"
        }
      ]
    },
    {
      "cell_type": "markdown",
      "metadata": {
        "id": "EEDi_0UQMOkF"
      },
      "source": [
        "**Grid Search**"
      ]
    },
    {
      "cell_type": "code",
      "metadata": {
        "colab": {
          "base_uri": "https://localhost:8080/"
        },
        "id": "L9GEqdnRMRQ3",
        "outputId": "6d7e805d-081e-4e6f-98ed-68a21ea8debb"
      },
      "source": [
        "y_pred = best_grid.predict(X_test)\n",
        "print(confusion_matrix(y_pred, y_test))\n",
        "print(classification_report(y_pred,y_test))\n",
        "print(accuracy_score(y_pred, y_test))"
      ],
      "execution_count": 88,
      "outputs": [
        {
          "output_type": "stream",
          "text": [
            "[[12  0]\n",
            " [ 1 30]]\n",
            "              precision    recall  f1-score   support\n",
            "\n",
            "           0       0.92      1.00      0.96        12\n",
            "           1       1.00      0.97      0.98        31\n",
            "\n",
            "    accuracy                           0.98        43\n",
            "   macro avg       0.96      0.98      0.97        43\n",
            "weighted avg       0.98      0.98      0.98        43\n",
            "\n",
            "0.9767441860465116\n"
          ],
          "name": "stdout"
        }
      ]
    },
    {
      "cell_type": "markdown",
      "metadata": {
        "id": "-zGHIOJBMjG7"
      },
      "source": [
        "# **MODEL ANALYSIS**"
      ]
    },
    {
      "cell_type": "markdown",
      "metadata": {
        "id": "QbSrM5mAMlsP"
      },
      "source": [
        "Pada percobaan model menggunakan dataset Campus Recruitment dapat disimpulkan hasil analisa sebagai berikut\n",
        "\n",
        "\n",
        "*   Model yang digunakan adalah model random forest\n",
        "*   Pada proses pengolahan data train dan test dilakukan pengolahan dengan model evaluation dan model improvement\n",
        "\n",
        "*   Saat melakukan model evaluation hasilnya akurasinya 0.9534 hal ini dapat disebabkan karena dari semua fitur nilainya hampir memiliki kecenderungan pada target tertentu sehingga menghasilkan nilai akurasi yang tinggi \n",
        "*   Kemudian dilakukan model improvement untuk mencari hasil klasifikasi yang baik antara dua kelas. Untuk metode nya menggunakan random search dan grid search\n",
        "\n",
        "*   pada model improvement akan dicari parameter terbaik untuk menghasilkan nilai akurasi yang lebih baik\n",
        "\n",
        "\n",
        "\n",
        "*   Pada metode random search menghasilkan hasil yang lebih baik yaitu 0.9767 dan menghasilkan kenaikan angka akurasi pada precision, recall, dan f-1 score untuk kelas yang persebarannya sedikit\n",
        "*   Hal tersebut juga terjadi pada metode grid search yang menghasilkan hasil yang sama yaitu 0.9767 namun proses running time pada metode grid search lebih lama dibandingkan dengan random search\n",
        "\n",
        "\n",
        "\n",
        "*   Pada proses model improvement metode random search menghasilkan hasil yang lebih baik dan running time yang cepat dibanding metode model improvement yang lain"
      ]
    },
    {
      "cell_type": "markdown",
      "metadata": {
        "id": "4RDK9SaDCzLd"
      },
      "source": [
        "# **OVERALL ANALYSIS**"
      ]
    },
    {
      "cell_type": "markdown",
      "metadata": {
        "id": "dSYIsnTZC4o7"
      },
      "source": [
        "Pada percobaan model menggunakan dataset Campus Recruitment dapat disimpulkan hasil analisa sebagai berikut\n",
        "\n",
        "\n",
        "*   Proses Feature Engineering dapat menghasilkan sebuat feature baru yang dapat memetakan persebaran feature data ke target data agar dapat menghasilkan tingkat akurasi yang lebih baik\n",
        "*   Pipeline dapat digunakan untuk menghasilkan data test dan data prediksi yang lebih baik karena pembagian split data dapat diatur sesuai dengan panjang pipeline yang di set\n",
        "\n",
        "*   Pada  percobaan kali ini model yang digunakan adalah model random forest karena model ini dikenal lebih baik dari model-model lain untuk menanggulangi persebaran data yang tidak merata\n",
        "*   Pada model evaluasi dilakukan juga model improvement untuk menghasilkan nilai model yang baik. \n",
        "\n",
        "*   Untuk model evaluasi menggunakan manual search yang parameter prediksinya sudah ditentukan diawal\n",
        "*   Untuk model improvement menggunakan random search dan grid search\n",
        "\n",
        "\n",
        "\n",
        "*   Pada proses model improvement metode random search menghasilkan hasil yang lebih baik diantara metode yang lain"
      ]
    }
  ]
}